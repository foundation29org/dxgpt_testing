{
 "cells": [
  {
   "cell_type": "markdown",
   "metadata": {},
   "source": [
    "# DxGPT Evaluation Dashboard\n",
    "\n",
    "### This repository contains the code and resources for generating a dashboard that facilitates the comparison of prediction scores across different models. It is designed to streamline the evaluation process of machine learning models by providing visual insights into their performance metrics.\n",
    "\n",
    "### For seeing the dashboard, you can use this repo in Google Colab with the following link:\n",
    "### [![Open In Colab](https://colab.research.google.com/assets/colab-badge.svg)](https://colab.research.google.com/github/foundation29org/dxgpt_testing/blob/main/dashboard.ipynb)\n",
    "\n",
    "### Therefore, run all the cells in the notebook in order to see the dashboards.\n",
    "\n",
    "# ----------\n",
    "\n",
    "### Este repositorio contiene el código y los recursos para generar un tablero que facilite el comparativo de puntuaciones de predicción entre diferentes modelos de inteligencia artificial. Este dashboard está diseñado para simplificar el proceso de evaluación de los modelos de inteligencia artificial mediante la visualización de sus métricas de rendimiento.\n",
    "\n",
    "### Para ver el tablero, puedes usar este repositorio en Google Colab con el siguiente enlace:\n",
    "### [![Open In Colab](https://colab.research.google.com/assets/colab-badge.svg)](https://colab.research.google.com/github/foundation29org/dxgpt_testing/blob/main/dashboard.ipynb)\n",
    "\n",
    "### Para continuar, ejecuta todas las celdas del notebook en orden para ver los tableros."
   ]
  },
  {
   "cell_type": "code",
   "execution_count": null,
   "metadata": {},
   "outputs": [],
   "source": [
    "!git clone https://github.com/foundation29org/dxgpt_testing.git\n",
    "!pip install plotly\n",
    "%cd dxgpt_testing\n",
    "%ls"
   ]
  },
  {
   "cell_type": "markdown",
   "metadata": {},
   "source": [
    "### In the previous cell, we cloned the repository and installed the necessary packages for this notebook.\n",
    "### In the next cell, we filter the files in the \"data\" folder to only include those that start with \"scores\" and end with \".csv\".\n",
    "### We then print the list of files to the console.\n",
    "\n",
    "# ----------\n",
    "\n",
    "### En la anterior celda, clonamos el repositorio y instalamos los paquetes necesarios para este notebook.\n",
    "### En la siguiente celda, filtramos los archivos en la carpeta \"data\" para incluir solo aquellos que comiencen con \"scores\" y terminen con \".csv\".\n",
    "### Luego, imprimimos la lista de archivos al consola."
   ]
  },
  {
   "cell_type": "code",
   "execution_count": 1,
   "metadata": {},
   "outputs": [
    {
     "name": "stdout",
     "output_type": "stream",
     "text": [
      "['scores_RAMEDIS_llama3_8b.csv', 'scores_PUMCH_ADM_c3opus.csv', 'scores.csv', 'scores_URG_Torre_Dic_1000_gpt4_0613.csv', 'scores_RAMEDIS_gpt4_0613.csv', 'scores_PUMCH_ADM_cohere_cplus.csv', 'scores_seq_diagnoses_URG_Torre_Dic_200_gpt4_0613.csv', 'scores_v2_gpt4turbo0409.csv', 'scores_medisearch_v2_gpt4turbo1106.csv', 'scores_URG_Torre_Dic_1000_c35sonnet.csv', 'scores_URG_Torre_Dic_200_gpt4o_json_2.csv', 'scores_RAMEDIS_gpt4o_json.csv', 'scores_nov.csv', 'scores_URG_Torre_Dic_200_mistral7b.csv', 'scores_URG_Torre_Dic_200_cohere_cplus.csv', 'scores_URG_Torre_Dic_200_gpt4o.csv', 'scores_v2_mistralmoe.csv', 'scores_URG_Torre_Dic_200_gpt4turbo0409.csv', 'scores_URG_Torre_Dic_200_mistralmoe.csv', 'scores_turbo.csv', 'scores_RAMEDIS_gpt4o.csv', 'scores_v2_c3opus.csv', 'scores_URG_Torre_Dic_200_mixtralmoe_big.csv', 'scores_URG_Torre_Dic_200_improved_c3opus.csv', 'scores_v2_llama3_70b.csv', 'scores_PUMCH_ADM_mixtralmoe_big.csv', 'scores_seq_diagnoses_v2_gpt4_0613.csv', 'scores_PUMCH_ADM_mistral7b.csv', 'scores_v2_mistral7b.csv', 'scores_medisearch_v2_improved_c3sonnet.csv', 'scores_URG_Torre_Dic_200_c3sonnet.csv', 'scores_RAMEDIS_geminipro15.csv', 'scores_URG_Torre_Dic_200_llama2_7b.csv', 'scores_RAMEDIS_c3sonnet.csv', 'scores_URG_Torre_Dic_200_gpt4_0613.csv', 'scores_URG_Torre_Dic_1000_gpt4o.csv', 'scores_PUMCH_ADM_llama3_70b.csv', 'scores_PUMCH_ADM_gpt4turbo0409.csv', 'scores_claude_v2_gpt4_0613.csv', 'scores_URG_Torre_Dic_200_llama3_70b.csv', 'scores_RAMEDIS_gpt4turbo1106.csv', 'scores_PUMCH_ADM_geminipro.csv', 'scores_PUMCH_ADM_mistralmoe.csv', 'scores_v2_improved_c3sonnet.csv', 'scores_PUMCH_ADM_gpt4turbo1106.csv', 'scores_v2_llama2_7b.csv', 'scores_v2_gpt4_0613.csv', 'scores_medisearch_v2_improved_gpt4_0613.csv', 'scores_medisearch_v2_gpt4_0613.csv', 'scores_URG_Torre_Dic_200_gpt4turbo1106.csv', 'scores_PUMCH_ADM_llama2_7b.csv', 'scores_RAMEDIS_mistralmoe.csv', 'scores_URG_Torre_Dic_200_llama3_70b_ENG.csv', 'scores_RAMEDIS_c3opus.csv', 'scores_v2_llama3_8b.csv', 'scores_v2_c3sonnet.csv', 'scores_claude_v2_gpt4turbo1106.csv', 'scores_v2_geminipro15.csv', 'scores_RAMEDIS_llama3_70b.csv', 'scores_PUMCH_ADM_c3sonnet.csv', 'scores_2.csv', 'scores_RAMEDIS_llama2_7b.csv', 'scores_URG_Torre_Dic_200_gpt4o_json.csv', 'scores_RAMEDIS_gpt4turbo0409.csv', 'scores_URG_Torre_Dic_200_improved_gpt4_0613.csv', 'scores_RAMEDIS_gpt4o_json_2.csv', 'scores_RAMEDIS_cohere_cplus.csv', 'scores_v2_improved_gpt4_0613.csv', 'scores_seq_diagnoses_RAMEDIS_gpt4_0613.csv', 'scores_v2_rare_only_prompt_gpt4_0613.csv', 'scores_PUMCH_ADM_llama3_8b.csv', 'scores_URG_Torre_Dic_200_improved_c3sonnet.csv', 'scores_PUMCH_ADM_gpt4_0613.csv', 'scores_v2_cohere_cplus.csv', 'scores_RAMEDIS_c35sonnet.csv', 'scores_URG_Torre_Dic_200_c35sonnet.csv', 'scores_RAMEDIS_mixtralmoe_big.csv', 'scores_v2_mixtralmoe_big.csv', 'scores_RAMEDIS_mistral7b.csv', 'scores_URG_Torre_Dic_200_geminipro15.csv', 'scores_v2_gpt4turbo1106.csv', 'scores_URG_Torre_Dic_200_llama3_8b.csv', 'scores_URG_Torre_Dic_200_c3opus.csv']\n",
      "Files Urgencias HM:\n",
      "['scores_URG_Torre_Dic_1000_gpt4_0613.csv', 'scores_URG_Torre_Dic_1000_c35sonnet.csv', 'scores_URG_Torre_Dic_200_gpt4o_json_2.csv', 'scores_URG_Torre_Dic_200_mistral7b.csv', 'scores_URG_Torre_Dic_200_cohere_cplus.csv', 'scores_URG_Torre_Dic_200_gpt4o.csv', 'scores_URG_Torre_Dic_200_gpt4turbo0409.csv', 'scores_URG_Torre_Dic_200_mistralmoe.csv', 'scores_URG_Torre_Dic_200_mixtralmoe_big.csv', 'scores_URG_Torre_Dic_200_improved_c3opus.csv', 'scores_URG_Torre_Dic_200_c3sonnet.csv', 'scores_URG_Torre_Dic_200_llama2_7b.csv', 'scores_URG_Torre_Dic_200_gpt4_0613.csv', 'scores_URG_Torre_Dic_1000_gpt4o.csv', 'scores_URG_Torre_Dic_200_llama3_70b.csv', 'scores_URG_Torre_Dic_200_gpt4turbo1106.csv', 'scores_URG_Torre_Dic_200_llama3_70b_ENG.csv', 'scores_URG_Torre_Dic_200_gpt4o_json.csv', 'scores_URG_Torre_Dic_200_improved_gpt4_0613.csv', 'scores_URG_Torre_Dic_200_improved_c3sonnet.csv', 'scores_URG_Torre_Dic_200_c35sonnet.csv', 'scores_URG_Torre_Dic_200_geminipro15.csv', 'scores_URG_Torre_Dic_200_llama3_8b.csv', 'scores_URG_Torre_Dic_200_c3opus.csv']\n",
      "Files v2:\n",
      "['scores_v2_gpt4turbo0409.csv', 'scores_v2_mistralmoe.csv', 'scores_v2_c3opus.csv', 'scores_v2_llama3_70b.csv', 'scores_v2_mistral7b.csv', 'scores_v2_improved_c3sonnet.csv', 'scores_v2_llama2_7b.csv', 'scores_v2_gpt4_0613.csv', 'scores_v2_llama3_8b.csv', 'scores_v2_c3sonnet.csv', 'scores_v2_geminipro15.csv', 'scores_v2_improved_gpt4_0613.csv', 'scores_v2_rare_only_prompt_gpt4_0613.csv', 'scores_v2_cohere_cplus.csv', 'scores_v2_mixtralmoe_big.csv', 'scores_v2_gpt4turbo1106.csv']\n",
      "Files RAMEDIS:\n",
      "['scores_RAMEDIS_llama3_8b.csv', 'scores_RAMEDIS_gpt4_0613.csv', 'scores_RAMEDIS_gpt4o_json.csv', 'scores_RAMEDIS_gpt4o.csv', 'scores_RAMEDIS_geminipro15.csv', 'scores_RAMEDIS_c3sonnet.csv', 'scores_RAMEDIS_gpt4turbo1106.csv', 'scores_RAMEDIS_mistralmoe.csv', 'scores_RAMEDIS_c3opus.csv', 'scores_RAMEDIS_llama3_70b.csv', 'scores_RAMEDIS_llama2_7b.csv', 'scores_RAMEDIS_gpt4turbo0409.csv', 'scores_RAMEDIS_gpt4o_json_2.csv', 'scores_RAMEDIS_cohere_cplus.csv', 'scores_RAMEDIS_c35sonnet.csv', 'scores_RAMEDIS_mixtralmoe_big.csv', 'scores_RAMEDIS_mistral7b.csv']\n",
      "Files PUMCH_ADM:\n",
      "['scores_PUMCH_ADM_c3opus.csv', 'scores_PUMCH_ADM_cohere_cplus.csv', 'scores_PUMCH_ADM_mixtralmoe_big.csv', 'scores_PUMCH_ADM_mistral7b.csv', 'scores_PUMCH_ADM_llama3_70b.csv', 'scores_PUMCH_ADM_gpt4turbo0409.csv', 'scores_PUMCH_ADM_geminipro.csv', 'scores_PUMCH_ADM_mistralmoe.csv', 'scores_PUMCH_ADM_gpt4turbo1106.csv', 'scores_PUMCH_ADM_llama2_7b.csv', 'scores_PUMCH_ADM_c3sonnet.csv', 'scores_PUMCH_ADM_llama3_8b.csv', 'scores_PUMCH_ADM_gpt4_0613.csv']\n",
      "Files Sequential:\n",
      "['scores_seq_diagnoses_URG_Torre_Dic_200_gpt4_0613.csv', 'scores_seq_diagnoses_v2_gpt4_0613.csv', 'scores_seq_diagnoses_RAMEDIS_gpt4_0613.csv']\n",
      "['scores_RUBER_HHCC_Epilepsy_50_gpt4o_text.csv', 'scores_RUBER_HHCC_Epilepsy_50_gpt4_0613.csv', 'scores_RUBER_HHCC_Epilepsy_50_gpt4_0613_specific.csv', 'scores_RUBER_HHCC_Epilepsy_50_gpt4_0613_gene_text.csv', 'scores_RUBER_HHCC_Epilepsy_50_c35sonnet_specific.csv', 'scores_RUBER_HHCC_Epilepsy_50_gpt4_0613_gene.csv', 'scores_RUBER_HHCC_Epilepsy_50_gpt4o_gene_text_truncated.csv', 'scores_RUBER_HHCC_Epilepsy_50_gpt4o_gene.csv', 'scores_RUBER_HHCC_Epilepsy_50_gpt4_0613_text.csv', 'scores_RUBER_HHCC_Epilepsy_50_gpt4o_gene_text.csv', 'scores_RUBER_HHCC_Epilepsy_50_gpt4o_specific.csv', 'scores_RUBER_HHCC_Epilepsy_50_gpt4o_text_truncated.csv']\n",
      "Files RUBER:\n",
      "['scores_RUBER_HHCC_Epilepsy_50_gpt4o_text.csv', 'scores_RUBER_HHCC_Epilepsy_50_gpt4_0613.csv', 'scores_RUBER_HHCC_Epilepsy_50_gpt4_0613_specific.csv', 'scores_RUBER_HHCC_Epilepsy_50_gpt4_0613_gene_text.csv', 'scores_RUBER_HHCC_Epilepsy_50_c35sonnet_specific.csv', 'scores_RUBER_HHCC_Epilepsy_50_gpt4_0613_gene.csv', 'scores_RUBER_HHCC_Epilepsy_50_gpt4o_gene_text_truncated.csv', 'scores_RUBER_HHCC_Epilepsy_50_gpt4o_gene.csv', 'scores_RUBER_HHCC_Epilepsy_50_gpt4_0613_text.csv', 'scores_RUBER_HHCC_Epilepsy_50_gpt4o_gene_text.csv', 'scores_RUBER_HHCC_Epilepsy_50_gpt4o_specific.csv', 'scores_RUBER_HHCC_Epilepsy_50_gpt4o_text_truncated.csv']\n"
     ]
    }
   ],
   "source": [
    "import os\n",
    "import pandas as pd\n",
    "import plotly.graph_objects as go\n",
    "from plotly.subplots import make_subplots\n",
    "# This file is used to generate a dashboard for easily comparing the scores of the predictions between different models.\n",
    "\n",
    "# Filter data folder for files starting with \"scores\"\n",
    "path = \"data\"\n",
    "files = [f for f in os.listdir(path) if f.startswith('scores') and f.endswith('.csv')]\n",
    "print(files)\n",
    "\n",
    "files_URG = [f for f in files if f.startswith('scores_URG_Torre_Dic_')]\n",
    "\n",
    "files_v2 = [f for f in files if f.startswith('scores_v2')]\n",
    "\n",
    "files_RAMEDIS = [f for f in files if f.startswith('scores_RAMEDIS')]\n",
    "\n",
    "files_PUMCH_ADM = [f for f in files if f.startswith('scores_PUMCH_ADM')]\n",
    "\n",
    "files_sequential = [f for f in files if f.startswith('scores_seq')]\n",
    "\n",
    "print(\"Files Urgencias HM:\")\n",
    "print(files_URG)\n",
    "\n",
    "print(\"Files v2:\")\n",
    "print(files_v2)\n",
    "\n",
    "print(\"Files RAMEDIS:\")\n",
    "print(files_RAMEDIS)\n",
    "\n",
    "print(\"Files PUMCH_ADM:\")\n",
    "print(files_PUMCH_ADM)\n",
    "\n",
    "print(\"Files Sequential:\")\n",
    "print(files_sequential)\n",
    "\n",
    "path_ruber = \"Ruber_cases\"\n",
    "files = [f for f in os.listdir(path_ruber) if f.startswith('scores') and f.endswith('.csv')]\n",
    "print(files)\n",
    "\n",
    "files_RUBER = [f for f in files if f.startswith('scores_RUBER')]\n",
    "\n",
    "print(\"Files RUBER:\")\n",
    "print(files_RUBER)"
   ]
  },
  {
   "cell_type": "markdown",
   "metadata": {},
   "source": [
    "### We define a function to calculate the statistics for each file group\n",
    "### This function takes a DataFrame as input and calculates the number of P1, P5, and P0 scores, as well as the strict and lenient accuracy.\n",
    "### It returns the counts for each score and the calculated accuracy metrics.\n",
    "\n",
    "### P1 is the score when the correct diagnosis appears in the first position\n",
    "### P5 is the score when the correct diagnosis appears in any of the five positions\n",
    "### P0 is the score when the correct diagnosis does not appear at all\n",
    "\n",
    "# ----------\n",
    "\n",
    "### Definimos una función para calcular las estadísticas de cada grupo de archivos\n",
    "### Esta función toma un DataFrame como entrada y calcula el nmero de P1, P5 y P0, así como la precisión estricta y la precisión leniente.\n",
    "### Devuelve los contadores de cada puntuación y las métricas de precisión calculadas.\n",
    "\n",
    "### P1 es la puntuación cuando el diagnóstico correcto aparece en la primera posición\n",
    "### P5 es la puntuación cuando el diagnóstico correcto aparece en cualquiera de las cinco posiciones\n",
    "### P0 es la puntuación cuando el diagnóstico correcto no aparece en absoluto"
   ]
  },
  {
   "cell_type": "code",
   "execution_count": 2,
   "metadata": {},
   "outputs": [],
   "source": [
    "def get_stats_for_df(df):\n",
    "    count_p1 = df['Score'].value_counts()['P1']\n",
    "    count_p5 = df[df['Score'].isin(['P2', 'P3', 'P4', 'P5'])].shape[0]\n",
    "    count_p0 = df['Score'].value_counts()['P0']\n",
    "\n",
    "    # Calculate total number of predictions\n",
    "    total_predictions = count_p1 + count_p5 + count_p0\n",
    "\n",
    "    # print(\"total_predictions:\" , total_predictions)\n",
    "\n",
    "    # Calculate Strict Accuracy\n",
    "    strict_accuracy = (count_p1 / total_predictions) * 100\n",
    "\n",
    "    # Calculate Lenient Accuracy\n",
    "    lenient_accuracy = ((count_p1 + count_p5) / total_predictions) * 100\n",
    "\n",
    "    return count_p1, count_p5, count_p0, strict_accuracy, lenient_accuracy, total_predictions\n",
    "\n",
    "def get_stats_for_df_200(df):\n",
    "    # Same but limited to df[:200]\n",
    "    top_200_df = df[:200]\n",
    "    count_p1 = top_200_df['Score'].value_counts()['P1']\n",
    "    count_p5 = top_200_df[top_200_df['Score'].isin(['P2', 'P3', 'P4', 'P5'])].shape[0]\n",
    "    count_p0 = top_200_df['Score'].value_counts()['P0']\n",
    "\n",
    "    # Calculate total number of predictions\n",
    "    total_predictions = count_p1 + count_p5 + count_p0\n",
    "\n",
    "    # print(\"total_predictions:\" , total_predictions)\n",
    "\n",
    "    # Calculate Strict Accuracy\n",
    "    strict_accuracy = (count_p1 / total_predictions) * 100\n",
    "\n",
    "    # Calculate Lenient Accuracy\n",
    "    lenient_accuracy = ((count_p1 + count_p5) / total_predictions) * 100\n",
    "\n",
    "    return count_p1, count_p5, count_p0, strict_accuracy, lenient_accuracy, total_predictions"
   ]
  },
  {
   "cell_type": "code",
   "execution_count": 3,
   "metadata": {},
   "outputs": [
    {
     "name": "stdout",
     "output_type": "stream",
     "text": [
      "* means that the stats are for the first 200 predictions\n",
      "scores_URG_Torre_Dic_1000_gpt4_0613.csv* of (200): 25.00% (79.50%)\n",
      "scores_URG_Torre_Dic_1000_gpt4_0613.csv of (1000): 27.30% (78.70%)\n",
      "scores_URG_Torre_Dic_1000_c35sonnet.csv* of (200): 33.50% (89.00%)\n",
      "scores_URG_Torre_Dic_1000_c35sonnet.csv of (999): 32.93% (85.69%)\n",
      "scores_URG_Torre_Dic_200_gpt4o_json_2.csv of (199): 20.10% (90.45%)\n",
      "scores_URG_Torre_Dic_200_mistral7b.csv of (200): 25.00% (67.00%)\n",
      "scores_URG_Torre_Dic_200_cohere_cplus.csv of (200): 28.00% (82.50%)\n",
      "scores_URG_Torre_Dic_200_gpt4o.csv of (200): 33.00% (89.50%)\n",
      "scores_URG_Torre_Dic_200_gpt4turbo0409.csv of (200): 35.00% (85.50%)\n",
      "scores_URG_Torre_Dic_200_mistralmoe.csv of (200): 31.00% (77.50%)\n",
      "scores_URG_Torre_Dic_200_mixtralmoe_big.csv of (200): 29.50% (84.50%)\n",
      "scores_URG_Torre_Dic_200_improved_c3opus.csv of (199): 27.64% (79.90%)\n",
      "scores_URG_Torre_Dic_200_c3sonnet.csv of (200): 30.50% (87.50%)\n",
      "scores_URG_Torre_Dic_200_llama2_7b.csv of (200): 17.50% (57.00%)\n",
      "scores_URG_Torre_Dic_200_gpt4_0613.csv of (199): 28.64% (81.41%)\n",
      "scores_URG_Torre_Dic_1000_gpt4o.csv* of (200): 34.50% (88.50%)\n",
      "scores_URG_Torre_Dic_1000_gpt4o.csv of (1000): 33.30% (86.60%)\n",
      "scores_URG_Torre_Dic_200_llama3_70b.csv of (196): 21.94% (76.53%)\n",
      "scores_URG_Torre_Dic_200_gpt4turbo1106.csv of (200): 37.00% (84.00%)\n",
      "scores_URG_Torre_Dic_200_llama3_70b_ENG.csv of (188): 14.36% (54.26%)\n",
      "scores_URG_Torre_Dic_200_gpt4o_json.csv of (200): 21.00% (91.00%)\n",
      "scores_URG_Torre_Dic_200_improved_gpt4_0613.csv of (200): 32.50% (81.50%)\n",
      "scores_URG_Torre_Dic_200_improved_c3sonnet.csv of (199): 31.16% (86.43%)\n",
      "scores_URG_Torre_Dic_200_c35sonnet.csv of (199): 33.17% (88.44%)\n",
      "scores_URG_Torre_Dic_200_geminipro15.csv of (197): 28.43% (84.26%)\n",
      "scores_URG_Torre_Dic_200_llama3_8b.csv of (200): 22.50% (68.00%)\n",
      "scores_URG_Torre_Dic_200_c3opus.csv of (200): 29.00% (84.00%)\n"
     ]
    }
   ],
   "source": [
    "print(\"* means that the stats are for the first 200 predictions\")\n",
    "# print 4 pairs of values: dataset, model, strict accuracy, lenient accuracy\n",
    "def print_stats_for_files(files):\n",
    "    for file in files:\n",
    "        df = pd.read_csv(f'{path}/{file}')\n",
    "        if file == \"scores_URG_Torre_Dic_1000_c35sonnet.csv\" or file == \"scores_URG_Torre_Dic_1000_gpt4_0613.csv\" or file == \"scores_URG_Torre_Dic_1000_gpt4o.csv\":\n",
    "            count_p1, count_p5, count_p0, strict_accuracy, lenient_accuracy, total_predictions = get_stats_for_df_200(df)\n",
    "            print(f'{file}* of ({total_predictions}): {strict_accuracy:.2f}% ({lenient_accuracy:.2f}%)')\n",
    "        count_p1, count_p5, count_p0, strict_accuracy, lenient_accuracy, total_predictions = get_stats_for_df(df)\n",
    "        print(f'{file} of ({total_predictions}): {strict_accuracy:.2f}% ({lenient_accuracy:.2f}%)')\n",
    "\n",
    "# print(\"Stats Urgencias HM:\")\n",
    "print_stats_for_files(files_URG)\n",
    "\n",
    "# print(\"Stats Sequential:\")\n",
    "# print_stats_for_files(files_sequential)\n",
    "\n",
    "# print(\"Stats v2:\")\n",
    "# print_stats_for_files(files_v2)\n",
    "\n",
    "# print(\"Stats RAMEDIS:\")\n",
    "# print_stats_for_files(files_RAMEDIS)\n",
    "\n",
    "# print(\"Stats PUMCH_ADM:\")\n",
    "# print_stats_for_files(files_PUMCH_ADM)\n",
    "\n",
    "# path = path_ruber\n",
    "# print(\"Stats RUBER:\")\n",
    "# print_stats_for_files(files_RUBER)"
   ]
  },
  {
   "cell_type": "markdown",
   "metadata": {},
   "source": [
    "### In the next cell, we create a list to store the data for each file group\n",
    "### We then process each file in the files_v2 list and store the data in the data_v2 list\n",
    "### We do the same for the files_URG list, storing the data in the data_URG list\n",
    "\n",
    "### Then we create a DataFrame for each file group\n",
    "### We add the first table to the first subplot\n",
    "### We add the second table to the second subplot\n",
    "### We update the layout and display the dashboard\n",
    "\n",
    "# ----------\n",
    "\n",
    "### En la siguiente celda, creamos una lista para almacenar los datos de cada grupo de archivos\n",
    "### Luego, procesamos cada archivo de la lista files_v2 y almacenamos los datos en la lista data_v2\n",
    "### Hacemos lo mismo para la lista files_URG, almacenando los datos en la lista data_URG\n",
    "\n",
    "### Luego, creamos un DataFrame para cada grupo de archivos\n",
    "### Añadimos la primera tabla al primer subplot\n",
    "### Añadimos la segunda tabla al segundo subplot\n",
    "### Actualizamos el diseño y mostramos el tablero"
   ]
  },
  {
   "cell_type": "code",
   "execution_count": 4,
   "metadata": {},
   "outputs": [
    {
     "data": {
      "application/vnd.plotly.v1+json": {
       "config": {
        "plotlyServerURL": "https://plot.ly"
       },
       "data": [
        {
         "cells": {
          "align": "left",
          "fill": {
           "color": "lavender"
          },
          "values": [
           [
            "scores_v2_gpt4turbo0409.csv",
            "scores_v2_mistralmoe.csv",
            "scores_v2_c3opus.csv",
            "scores_v2_llama3_70b.csv",
            "scores_v2_mistral7b.csv",
            "scores_v2_improved_c3sonnet.csv",
            "scores_v2_llama2_7b.csv",
            "scores_v2_gpt4_0613.csv",
            "scores_v2_llama3_8b.csv",
            "scores_v2_c3sonnet.csv",
            "scores_v2_geminipro15.csv",
            "scores_v2_improved_gpt4_0613.csv",
            "scores_v2_rare_only_prompt_gpt4_0613.csv",
            "scores_v2_cohere_cplus.csv",
            "scores_v2_mixtralmoe_big.csv",
            "scores_v2_gpt4turbo1106.csv"
           ],
           [
            134,
            113,
            145,
            128,
            94,
            139,
            61,
            133,
            95,
            131,
            140,
            144,
            135,
            108,
            135,
            137
           ],
           [
            48,
            56,
            38,
            53,
            47,
            36,
            55,
            48,
            51,
            46,
            42,
            33,
            42,
            52,
            39,
            47
           ],
           [
            18,
            31,
            17,
            19,
            59,
            25,
            84,
            19,
            51,
            23,
            18,
            23,
            23,
            40,
            26,
            16
           ],
           [
            67,
            56.49999999999999,
            72.5,
            64,
            47,
            69.5,
            30.5,
            66.5,
            48.223350253807105,
            65.5,
            70,
            72,
            67.5,
            54,
            67.5,
            68.5
           ],
           [
            91,
            84.5,
            91.5,
            90.5,
            70.5,
            87.5,
            57.99999999999999,
            90.5,
            74.11167512690355,
            88.5,
            91,
            88.5,
            88.5,
            80,
            87,
            92
           ]
          ]
         },
         "domain": {
          "x": [
           0,
           1
          ],
          "y": [
           0.84375,
           1
          ]
         },
         "header": {
          "align": "left",
          "fill": {
           "color": "paleturquoise"
          },
          "values": [
           "File",
           "P1",
           "P5",
           "P0",
           "Strict Accuracy",
           "Lenient Accuracy"
          ]
         },
         "type": "table"
        },
        {
         "cells": {
          "align": "left",
          "fill": {
           "color": "lavender"
          },
          "values": [
           [
            "scores_URG_Torre_Dic_200_mistral7b.csv",
            "scores_URG_Torre_Dic_200_cohere_cplus.csv",
            "scores_URG_Torre_Dic_200_gpt4turbo0409.csv",
            "scores_URG_Torre_Dic_200_mistralmoe.csv",
            "scores_URG_Torre_Dic_200_mixtralmoe_big.csv",
            "scores_URG_Torre_Dic_200_improved_c3opus.csv",
            "scores_URG_Torre_Dic_200_c3sonnet.csv",
            "scores_URG_Torre_Dic_200_llama2_7b.csv",
            "scores_URG_Torre_Dic_200_gpt4_0613.csv",
            "scores_URG_Torre_Dic_200_llama3_70b.csv",
            "scores_URG_Torre_Dic_200_gpt4turbo1106.csv",
            "scores_URG_Torre_Dic_200_llama3_70b_ENG.csv",
            "scores_URG_Torre_Dic_200_improved_gpt4_0613.csv",
            "scores_URG_Torre_Dic_200_improved_c3sonnet.csv",
            "scores_URG_Torre_Dic_200_geminipro15.csv",
            "scores_URG_Torre_Dic_200_llama3_8b.csv",
            "scores_URG_Torre_Dic_200_c3opus.csv"
           ],
           [
            50,
            56,
            70,
            62,
            59,
            55,
            61,
            35,
            57,
            43,
            74,
            27,
            65,
            62,
            56,
            45,
            58
           ],
           [
            84,
            109,
            101,
            93,
            110,
            104,
            114,
            79,
            105,
            107,
            94,
            75,
            98,
            110,
            110,
            91,
            110
           ],
           [
            66,
            35,
            29,
            45,
            31,
            40,
            25,
            86,
            37,
            46,
            32,
            86,
            37,
            27,
            31,
            64,
            32
           ],
           [
            25,
            28.000000000000004,
            35,
            31,
            29.5,
            27.63819095477387,
            30.5,
            17.5,
            28.643216080402013,
            21.93877551020408,
            37,
            14.361702127659576,
            32.5,
            31.155778894472363,
            28.426395939086298,
            22.5,
            28.999999999999996
           ],
           [
            67,
            82.5,
            85.5,
            77.5,
            84.5,
            79.89949748743719,
            87.5,
            56.99999999999999,
            81.4070351758794,
            76.53061224489795,
            84,
            54.25531914893617,
            81.5,
            86.4321608040201,
            84.26395939086294,
            68,
            84
           ]
          ]
         },
         "domain": {
          "x": [
           0,
           1
          ],
          "y": [
           0.5625,
           0.71875
          ]
         },
         "header": {
          "align": "left",
          "fill": {
           "color": "paleturquoise"
          },
          "values": [
           "File",
           "P1",
           "P5",
           "P0",
           "Strict Accuracy",
           "Lenient Accuracy"
          ]
         },
         "type": "table"
        },
        {
         "cells": {
          "align": "left",
          "fill": {
           "color": "lavender"
          },
          "values": [
           [
            "scores_RAMEDIS_llama3_8b.csv",
            "scores_RAMEDIS_gpt4_0613.csv",
            "scores_RAMEDIS_geminipro15.csv",
            "scores_RAMEDIS_c3sonnet.csv",
            "scores_RAMEDIS_gpt4turbo1106.csv",
            "scores_RAMEDIS_mistralmoe.csv",
            "scores_RAMEDIS_c3opus.csv",
            "scores_RAMEDIS_llama3_70b.csv",
            "scores_RAMEDIS_llama2_7b.csv",
            "scores_RAMEDIS_gpt4turbo0409.csv",
            "scores_RAMEDIS_cohere_cplus.csv",
            "scores_RAMEDIS_mixtralmoe_big.csv",
            "scores_RAMEDIS_mistral7b.csv"
           ],
           [
            86,
            100,
            81,
            101,
            103,
            63,
            110,
            106,
            51,
            107,
            58,
            78,
            49
           ],
           [
            26,
            26,
            16,
            28,
            32,
            46,
            30,
            17,
            23,
            29,
            57,
            44,
            47
           ],
           [
            88,
            73,
            93,
            71,
            65,
            89,
            60,
            75,
            125,
            62,
            83,
            75,
            103
           ],
           [
            43,
            50.25125628140703,
            42.63157894736842,
            50.5,
            51.5,
            31.818181818181817,
            55.00000000000001,
            53.535353535353536,
            25.628140703517587,
            54.04040404040404,
            29.292929292929294,
            39.59390862944163,
            24.623115577889447
           ],
           [
            56.00000000000001,
            63.31658291457286,
            51.05263157894737,
            64.5,
            67.5,
            55.05050505050505,
            70,
            62.121212121212125,
            37.185929648241206,
            68.68686868686868,
            58.080808080808076,
            61.92893401015228,
            48.24120603015075
           ]
          ]
         },
         "domain": {
          "x": [
           0,
           1
          ],
          "y": [
           0.28125,
           0.4375
          ]
         },
         "header": {
          "align": "left",
          "fill": {
           "color": "paleturquoise"
          },
          "values": [
           "File",
           "P1",
           "P5",
           "P0",
           "Strict Accuracy",
           "Lenient Accuracy"
          ]
         },
         "type": "table"
        },
        {
         "cells": {
          "align": "left",
          "fill": {
           "color": "lavender"
          },
          "values": [
           [
            "scores_PUMCH_ADM_c3opus.csv",
            "scores_PUMCH_ADM_cohere_cplus.csv",
            "scores_PUMCH_ADM_mixtralmoe_big.csv",
            "scores_PUMCH_ADM_mistral7b.csv",
            "scores_PUMCH_ADM_llama3_70b.csv",
            "scores_PUMCH_ADM_gpt4turbo0409.csv",
            "scores_PUMCH_ADM_geminipro.csv",
            "scores_PUMCH_ADM_mistralmoe.csv",
            "scores_PUMCH_ADM_gpt4turbo1106.csv",
            "scores_PUMCH_ADM_llama2_7b.csv",
            "scores_PUMCH_ADM_c3sonnet.csv",
            "scores_PUMCH_ADM_llama3_8b.csv",
            "scores_PUMCH_ADM_gpt4_0613.csv"
           ],
           [
            38,
            32,
            29,
            23,
            32,
            35,
            35,
            22,
            44,
            14,
            25,
            25,
            33
           ],
           [
            7,
            3,
            5,
            10,
            3,
            8,
            5,
            12,
            4,
            7,
            11,
            6,
            7
           ],
           [
            28,
            40,
            41,
            41,
            37,
            31,
            34,
            39,
            26,
            53,
            39,
            44,
            35
           ],
           [
            52.054794520547944,
            42.66666666666667,
            38.666666666666664,
            31.08108108108108,
            44.44444444444444,
            47.2972972972973,
            47.2972972972973,
            30.136986301369863,
            59.45945945945946,
            18.91891891891892,
            33.33333333333333,
            33.33333333333333,
            44
           ],
           [
            61.64383561643836,
            46.666666666666664,
            45.33333333333333,
            44.5945945945946,
            48.61111111111111,
            58.108108108108105,
            54.054054054054056,
            46.57534246575342,
            64.86486486486487,
            28.37837837837838,
            48,
            41.333333333333336,
            53.333333333333336
           ]
          ]
         },
         "domain": {
          "x": [
           0,
           1
          ],
          "y": [
           0,
           0.15625
          ]
         },
         "header": {
          "align": "left",
          "fill": {
           "color": "paleturquoise"
          },
          "values": [
           "File",
           "P1",
           "P5",
           "P0",
           "Strict Accuracy",
           "Lenient Accuracy"
          ]
         },
         "type": "table"
        }
       ],
       "layout": {
        "annotations": [
         {
          "font": {
           "size": 16
          },
          "showarrow": false,
          "text": "v2 Files",
          "x": 0.5,
          "xanchor": "center",
          "xref": "paper",
          "y": 1,
          "yanchor": "bottom",
          "yref": "paper"
         },
         {
          "font": {
           "size": 16
          },
          "showarrow": false,
          "text": "URG Files",
          "x": 0.5,
          "xanchor": "center",
          "xref": "paper",
          "y": 0.71875,
          "yanchor": "bottom",
          "yref": "paper"
         },
         {
          "font": {
           "size": 16
          },
          "showarrow": false,
          "text": "RAMEDIS Files",
          "x": 0.5,
          "xanchor": "center",
          "xref": "paper",
          "y": 0.4375,
          "yanchor": "bottom",
          "yref": "paper"
         },
         {
          "font": {
           "size": 16
          },
          "showarrow": false,
          "text": "PUMCH_ADM Files",
          "x": 0.5,
          "xanchor": "center",
          "xref": "paper",
          "y": 0.15625,
          "yanchor": "bottom",
          "yref": "paper"
         }
        ],
        "height": 1200,
        "template": {
         "data": {
          "bar": [
           {
            "error_x": {
             "color": "#2a3f5f"
            },
            "error_y": {
             "color": "#2a3f5f"
            },
            "marker": {
             "line": {
              "color": "#E5ECF6",
              "width": 0.5
             },
             "pattern": {
              "fillmode": "overlay",
              "size": 10,
              "solidity": 0.2
             }
            },
            "type": "bar"
           }
          ],
          "barpolar": [
           {
            "marker": {
             "line": {
              "color": "#E5ECF6",
              "width": 0.5
             },
             "pattern": {
              "fillmode": "overlay",
              "size": 10,
              "solidity": 0.2
             }
            },
            "type": "barpolar"
           }
          ],
          "carpet": [
           {
            "aaxis": {
             "endlinecolor": "#2a3f5f",
             "gridcolor": "white",
             "linecolor": "white",
             "minorgridcolor": "white",
             "startlinecolor": "#2a3f5f"
            },
            "baxis": {
             "endlinecolor": "#2a3f5f",
             "gridcolor": "white",
             "linecolor": "white",
             "minorgridcolor": "white",
             "startlinecolor": "#2a3f5f"
            },
            "type": "carpet"
           }
          ],
          "choropleth": [
           {
            "colorbar": {
             "outlinewidth": 0,
             "ticks": ""
            },
            "type": "choropleth"
           }
          ],
          "contour": [
           {
            "colorbar": {
             "outlinewidth": 0,
             "ticks": ""
            },
            "colorscale": [
             [
              0,
              "#0d0887"
             ],
             [
              0.1111111111111111,
              "#46039f"
             ],
             [
              0.2222222222222222,
              "#7201a8"
             ],
             [
              0.3333333333333333,
              "#9c179e"
             ],
             [
              0.4444444444444444,
              "#bd3786"
             ],
             [
              0.5555555555555556,
              "#d8576b"
             ],
             [
              0.6666666666666666,
              "#ed7953"
             ],
             [
              0.7777777777777778,
              "#fb9f3a"
             ],
             [
              0.8888888888888888,
              "#fdca26"
             ],
             [
              1,
              "#f0f921"
             ]
            ],
            "type": "contour"
           }
          ],
          "contourcarpet": [
           {
            "colorbar": {
             "outlinewidth": 0,
             "ticks": ""
            },
            "type": "contourcarpet"
           }
          ],
          "heatmap": [
           {
            "colorbar": {
             "outlinewidth": 0,
             "ticks": ""
            },
            "colorscale": [
             [
              0,
              "#0d0887"
             ],
             [
              0.1111111111111111,
              "#46039f"
             ],
             [
              0.2222222222222222,
              "#7201a8"
             ],
             [
              0.3333333333333333,
              "#9c179e"
             ],
             [
              0.4444444444444444,
              "#bd3786"
             ],
             [
              0.5555555555555556,
              "#d8576b"
             ],
             [
              0.6666666666666666,
              "#ed7953"
             ],
             [
              0.7777777777777778,
              "#fb9f3a"
             ],
             [
              0.8888888888888888,
              "#fdca26"
             ],
             [
              1,
              "#f0f921"
             ]
            ],
            "type": "heatmap"
           }
          ],
          "heatmapgl": [
           {
            "colorbar": {
             "outlinewidth": 0,
             "ticks": ""
            },
            "colorscale": [
             [
              0,
              "#0d0887"
             ],
             [
              0.1111111111111111,
              "#46039f"
             ],
             [
              0.2222222222222222,
              "#7201a8"
             ],
             [
              0.3333333333333333,
              "#9c179e"
             ],
             [
              0.4444444444444444,
              "#bd3786"
             ],
             [
              0.5555555555555556,
              "#d8576b"
             ],
             [
              0.6666666666666666,
              "#ed7953"
             ],
             [
              0.7777777777777778,
              "#fb9f3a"
             ],
             [
              0.8888888888888888,
              "#fdca26"
             ],
             [
              1,
              "#f0f921"
             ]
            ],
            "type": "heatmapgl"
           }
          ],
          "histogram": [
           {
            "marker": {
             "pattern": {
              "fillmode": "overlay",
              "size": 10,
              "solidity": 0.2
             }
            },
            "type": "histogram"
           }
          ],
          "histogram2d": [
           {
            "colorbar": {
             "outlinewidth": 0,
             "ticks": ""
            },
            "colorscale": [
             [
              0,
              "#0d0887"
             ],
             [
              0.1111111111111111,
              "#46039f"
             ],
             [
              0.2222222222222222,
              "#7201a8"
             ],
             [
              0.3333333333333333,
              "#9c179e"
             ],
             [
              0.4444444444444444,
              "#bd3786"
             ],
             [
              0.5555555555555556,
              "#d8576b"
             ],
             [
              0.6666666666666666,
              "#ed7953"
             ],
             [
              0.7777777777777778,
              "#fb9f3a"
             ],
             [
              0.8888888888888888,
              "#fdca26"
             ],
             [
              1,
              "#f0f921"
             ]
            ],
            "type": "histogram2d"
           }
          ],
          "histogram2dcontour": [
           {
            "colorbar": {
             "outlinewidth": 0,
             "ticks": ""
            },
            "colorscale": [
             [
              0,
              "#0d0887"
             ],
             [
              0.1111111111111111,
              "#46039f"
             ],
             [
              0.2222222222222222,
              "#7201a8"
             ],
             [
              0.3333333333333333,
              "#9c179e"
             ],
             [
              0.4444444444444444,
              "#bd3786"
             ],
             [
              0.5555555555555556,
              "#d8576b"
             ],
             [
              0.6666666666666666,
              "#ed7953"
             ],
             [
              0.7777777777777778,
              "#fb9f3a"
             ],
             [
              0.8888888888888888,
              "#fdca26"
             ],
             [
              1,
              "#f0f921"
             ]
            ],
            "type": "histogram2dcontour"
           }
          ],
          "mesh3d": [
           {
            "colorbar": {
             "outlinewidth": 0,
             "ticks": ""
            },
            "type": "mesh3d"
           }
          ],
          "parcoords": [
           {
            "line": {
             "colorbar": {
              "outlinewidth": 0,
              "ticks": ""
             }
            },
            "type": "parcoords"
           }
          ],
          "pie": [
           {
            "automargin": true,
            "type": "pie"
           }
          ],
          "scatter": [
           {
            "fillpattern": {
             "fillmode": "overlay",
             "size": 10,
             "solidity": 0.2
            },
            "type": "scatter"
           }
          ],
          "scatter3d": [
           {
            "line": {
             "colorbar": {
              "outlinewidth": 0,
              "ticks": ""
             }
            },
            "marker": {
             "colorbar": {
              "outlinewidth": 0,
              "ticks": ""
             }
            },
            "type": "scatter3d"
           }
          ],
          "scattercarpet": [
           {
            "marker": {
             "colorbar": {
              "outlinewidth": 0,
              "ticks": ""
             }
            },
            "type": "scattercarpet"
           }
          ],
          "scattergeo": [
           {
            "marker": {
             "colorbar": {
              "outlinewidth": 0,
              "ticks": ""
             }
            },
            "type": "scattergeo"
           }
          ],
          "scattergl": [
           {
            "marker": {
             "colorbar": {
              "outlinewidth": 0,
              "ticks": ""
             }
            },
            "type": "scattergl"
           }
          ],
          "scattermapbox": [
           {
            "marker": {
             "colorbar": {
              "outlinewidth": 0,
              "ticks": ""
             }
            },
            "type": "scattermapbox"
           }
          ],
          "scatterpolar": [
           {
            "marker": {
             "colorbar": {
              "outlinewidth": 0,
              "ticks": ""
             }
            },
            "type": "scatterpolar"
           }
          ],
          "scatterpolargl": [
           {
            "marker": {
             "colorbar": {
              "outlinewidth": 0,
              "ticks": ""
             }
            },
            "type": "scatterpolargl"
           }
          ],
          "scatterternary": [
           {
            "marker": {
             "colorbar": {
              "outlinewidth": 0,
              "ticks": ""
             }
            },
            "type": "scatterternary"
           }
          ],
          "surface": [
           {
            "colorbar": {
             "outlinewidth": 0,
             "ticks": ""
            },
            "colorscale": [
             [
              0,
              "#0d0887"
             ],
             [
              0.1111111111111111,
              "#46039f"
             ],
             [
              0.2222222222222222,
              "#7201a8"
             ],
             [
              0.3333333333333333,
              "#9c179e"
             ],
             [
              0.4444444444444444,
              "#bd3786"
             ],
             [
              0.5555555555555556,
              "#d8576b"
             ],
             [
              0.6666666666666666,
              "#ed7953"
             ],
             [
              0.7777777777777778,
              "#fb9f3a"
             ],
             [
              0.8888888888888888,
              "#fdca26"
             ],
             [
              1,
              "#f0f921"
             ]
            ],
            "type": "surface"
           }
          ],
          "table": [
           {
            "cells": {
             "fill": {
              "color": "#EBF0F8"
             },
             "line": {
              "color": "white"
             }
            },
            "header": {
             "fill": {
              "color": "#C8D4E3"
             },
             "line": {
              "color": "white"
             }
            },
            "type": "table"
           }
          ]
         },
         "layout": {
          "annotationdefaults": {
           "arrowcolor": "#2a3f5f",
           "arrowhead": 0,
           "arrowwidth": 1
          },
          "autotypenumbers": "strict",
          "coloraxis": {
           "colorbar": {
            "outlinewidth": 0,
            "ticks": ""
           }
          },
          "colorscale": {
           "diverging": [
            [
             0,
             "#8e0152"
            ],
            [
             0.1,
             "#c51b7d"
            ],
            [
             0.2,
             "#de77ae"
            ],
            [
             0.3,
             "#f1b6da"
            ],
            [
             0.4,
             "#fde0ef"
            ],
            [
             0.5,
             "#f7f7f7"
            ],
            [
             0.6,
             "#e6f5d0"
            ],
            [
             0.7,
             "#b8e186"
            ],
            [
             0.8,
             "#7fbc41"
            ],
            [
             0.9,
             "#4d9221"
            ],
            [
             1,
             "#276419"
            ]
           ],
           "sequential": [
            [
             0,
             "#0d0887"
            ],
            [
             0.1111111111111111,
             "#46039f"
            ],
            [
             0.2222222222222222,
             "#7201a8"
            ],
            [
             0.3333333333333333,
             "#9c179e"
            ],
            [
             0.4444444444444444,
             "#bd3786"
            ],
            [
             0.5555555555555556,
             "#d8576b"
            ],
            [
             0.6666666666666666,
             "#ed7953"
            ],
            [
             0.7777777777777778,
             "#fb9f3a"
            ],
            [
             0.8888888888888888,
             "#fdca26"
            ],
            [
             1,
             "#f0f921"
            ]
           ],
           "sequentialminus": [
            [
             0,
             "#0d0887"
            ],
            [
             0.1111111111111111,
             "#46039f"
            ],
            [
             0.2222222222222222,
             "#7201a8"
            ],
            [
             0.3333333333333333,
             "#9c179e"
            ],
            [
             0.4444444444444444,
             "#bd3786"
            ],
            [
             0.5555555555555556,
             "#d8576b"
            ],
            [
             0.6666666666666666,
             "#ed7953"
            ],
            [
             0.7777777777777778,
             "#fb9f3a"
            ],
            [
             0.8888888888888888,
             "#fdca26"
            ],
            [
             1,
             "#f0f921"
            ]
           ]
          },
          "colorway": [
           "#636efa",
           "#EF553B",
           "#00cc96",
           "#ab63fa",
           "#FFA15A",
           "#19d3f3",
           "#FF6692",
           "#B6E880",
           "#FF97FF",
           "#FECB52"
          ],
          "font": {
           "color": "#2a3f5f"
          },
          "geo": {
           "bgcolor": "white",
           "lakecolor": "white",
           "landcolor": "#E5ECF6",
           "showlakes": true,
           "showland": true,
           "subunitcolor": "white"
          },
          "hoverlabel": {
           "align": "left"
          },
          "hovermode": "closest",
          "mapbox": {
           "style": "light"
          },
          "paper_bgcolor": "white",
          "plot_bgcolor": "#E5ECF6",
          "polar": {
           "angularaxis": {
            "gridcolor": "white",
            "linecolor": "white",
            "ticks": ""
           },
           "bgcolor": "#E5ECF6",
           "radialaxis": {
            "gridcolor": "white",
            "linecolor": "white",
            "ticks": ""
           }
          },
          "scene": {
           "xaxis": {
            "backgroundcolor": "#E5ECF6",
            "gridcolor": "white",
            "gridwidth": 2,
            "linecolor": "white",
            "showbackground": true,
            "ticks": "",
            "zerolinecolor": "white"
           },
           "yaxis": {
            "backgroundcolor": "#E5ECF6",
            "gridcolor": "white",
            "gridwidth": 2,
            "linecolor": "white",
            "showbackground": true,
            "ticks": "",
            "zerolinecolor": "white"
           },
           "zaxis": {
            "backgroundcolor": "#E5ECF6",
            "gridcolor": "white",
            "gridwidth": 2,
            "linecolor": "white",
            "showbackground": true,
            "ticks": "",
            "zerolinecolor": "white"
           }
          },
          "shapedefaults": {
           "line": {
            "color": "#2a3f5f"
           }
          },
          "ternary": {
           "aaxis": {
            "gridcolor": "white",
            "linecolor": "white",
            "ticks": ""
           },
           "baxis": {
            "gridcolor": "white",
            "linecolor": "white",
            "ticks": ""
           },
           "bgcolor": "#E5ECF6",
           "caxis": {
            "gridcolor": "white",
            "linecolor": "white",
            "ticks": ""
           }
          },
          "title": {
           "x": 0.05
          },
          "xaxis": {
           "automargin": true,
           "gridcolor": "white",
           "linecolor": "white",
           "ticks": "",
           "title": {
            "standoff": 15
           },
           "zerolinecolor": "white",
           "zerolinewidth": 2
          },
          "yaxis": {
           "automargin": true,
           "gridcolor": "white",
           "linecolor": "white",
           "ticks": "",
           "title": {
            "standoff": 15
           },
           "zerolinecolor": "white",
           "zerolinewidth": 2
          }
         }
        },
        "title": {
         "text": "Prediction Scores Dashboard"
        }
       }
      }
     },
     "metadata": {},
     "output_type": "display_data"
    }
   ],
   "source": [
    "# Create a list to store the data for each file group\n",
    "data_v2 = []\n",
    "data_URG = []\n",
    "data_RAMEDIS = []\n",
    "data_PUMCH_ADM = []\n",
    "\n",
    "# Process files_v2 and store the data\n",
    "for file in files_v2:\n",
    "    df = pd.read_csv(f'{path}/{file}')\n",
    "    count_p1, count_p5, count_p0, strict_accuracy, lenient_accuracy = get_stats_for_df(df)\n",
    "    data_v2.append([file, count_p1, count_p5, count_p0, strict_accuracy, lenient_accuracy])\n",
    "\n",
    "# Process files_URG and store the data\n",
    "for file in files_URG:\n",
    "    df = pd.read_csv(f'{path}/{file}')\n",
    "    count_p1, count_p5, count_p0, strict_accuracy, lenient_accuracy = get_stats_for_df(df)\n",
    "    data_URG.append([file, count_p1, count_p5, count_p0, strict_accuracy, lenient_accuracy])\n",
    "Jame\n",
    "for file in files_RAMEDIS:\n",
    "    df = pd.read_csv(f'{path}/{file}')\n",
    "    count_p1, count_p5, count_p0, strict_accuracy, lenient_accuracy = get_stats_for_df(df)\n",
    "    data_RAMEDIS.append([file, count_p1, count_p5, count_p0, strict_accuracy, lenient_accuracy])\n",
    "\n",
    "for file in files_PUMCH_ADM:\n",
    "    df = pd.read_csv(f'{path}/{file}')\n",
    "    count_p1, count_p5, count_p0, strict_accuracy, lenient_accuracy = get_stats_for_df(df)\n",
    "    data_PUMCH_ADM.append([file, count_p1, count_p5, count_p0, strict_accuracy, lenient_accuracy])\n",
    "\n",
    "# Create DataFrames for each file group\n",
    "df_v2 = pd.DataFrame(data_v2, columns=['File', 'P1', 'P5', 'P0', 'Strict Accuracy', 'Lenient Accuracy'])\n",
    "df_URG = pd.DataFrame(data_URG, columns=['File', 'P1', 'P5', 'P0', 'Strict Accuracy', 'Lenient Accuracy'])\n",
    "df_RAMEDIS = pd.DataFrame(data_RAMEDIS, columns=['File', 'P1', 'P5', 'P0', 'Strict Accuracy', 'Lenient Accuracy'])\n",
    "df_PUMCH_ADM = pd.DataFrame(data_PUMCH_ADM, columns=['File', 'P1', 'P5', 'P0', 'Strict Accuracy', 'Lenient Accuracy'])\n",
    "\n",
    "# Create subplots with 2 rows and 1 column, specifying subplot type as 'domain'\n",
    "fig = make_subplots(rows=4, cols=1, subplot_titles=('v2 Files', 'URG Files', 'RAMEDIS Files', 'PUMCH_ADM Files'), specs=[[{'type': 'domain'}], [{'type': 'domain'}], [{'type': 'domain'}], [{'type': 'domain'}]])\n",
    "\n",
    "# Add the first table to the first subplot\n",
    "fig.add_trace(\n",
    "    go.Table(\n",
    "        header=dict(values=list(df_v2.columns),\n",
    "                    fill_color='paleturquoise',\n",
    "                    align='left'),\n",
    "        cells=dict(values=[df_v2.File, df_v2.P1, df_v2.P5, df_v2.P0, df_v2['Strict Accuracy'], df_v2['Lenient Accuracy']],\n",
    "                   fill_color='lavender',\n",
    "                   align='left')\n",
    "    ),\n",
    "    row=1, col=1\n",
    ")\n",
    "\n",
    "# Add the second table to the second subplot\n",
    "fig.add_trace(\n",
    "    go.Table(\n",
    "        header=dict(values=list(df_URG.columns),\n",
    "                    fill_color='paleturquoise',\n",
    "                    align='left'),\n",
    "        cells=dict(values=[df_URG.File, df_URG.P1, df_URG.P5, df_URG.P0, df_URG['Strict Accuracy'], df_URG['Lenient Accuracy']],\n",
    "                   fill_color='lavender',\n",
    "                   align='left')\n",
    "    ),\n",
    "    row=2, col=1\n",
    ")\n",
    "\n",
    "fig.add_trace(\n",
    "    go.Table(\n",
    "        header=dict(values=list(df_RAMEDIS.columns),\n",
    "                    fill_color='paleturquoise',\n",
    "                    align='left'),\n",
    "        cells=dict(values=[df_RAMEDIS.File, df_RAMEDIS.P1, df_RAMEDIS.P5, df_RAMEDIS.P0, df_RAMEDIS['Strict Accuracy'], df_RAMEDIS['Lenient Accuracy']],\n",
    "                   fill_color='lavender',\n",
    "                   align='left')\n",
    "    ),\n",
    "    row=3, col=1\n",
    ")\n",
    "\n",
    "fig.add_trace(\n",
    "    go.Table(\n",
    "        header=dict(values=list(df_PUMCH_ADM.columns),\n",
    "                    fill_color='paleturquoise',\n",
    "                    align='left'),\n",
    "        cells=dict(values=[df_PUMCH_ADM.File, df_PUMCH_ADM.P1, df_PUMCH_ADM.P5, df_PUMCH_ADM.P0, df_PUMCH_ADM['Strict Accuracy'], df_PUMCH_ADM['Lenient Accuracy']],\n",
    "                   fill_color='lavender',\n",
    "                   align='left')\n",
    "    ),\n",
    "    row=4, col=1\n",
    ")\n",
    "\n",
    "# Update the layout\n",
    "fig.update_layout(\n",
    "    title='Prediction Scores Dashboard',\n",
    "    height=1200,\n",
    ")\n",
    "\n",
    "# Display the dashboard\n",
    "fig.show()"
   ]
  },
  {
   "cell_type": "markdown",
   "metadata": {},
   "source": [
    "### In the next cell, the difference is that we also discriminate between improved and non-improved prompts\n",
    "### We create lists to store the data for each file group\n",
    "\n",
    "### We then repeat as in the previous cell, but showing the graphs for the improved prompts\n",
    "\n",
    "# ----------\n",
    "\n",
    "### En la siguiente celda, la diferencia es que discriminamos entre prompts mejorados y no mejorados\n",
    "### Creamos listas para almacenar los datos de cada grupo de archivos\n",
    "\n",
    "### Repetimos lo anterior, pero mostrando los gráficos para los prompts mejorados"
   ]
  },
  {
   "cell_type": "code",
   "execution_count": 5,
   "metadata": {},
   "outputs": [
    {
     "data": {
      "application/vnd.plotly.v1+json": {
       "config": {
        "plotlyServerURL": "https://plot.ly"
       },
       "data": [
        {
         "cells": {
          "align": "left",
          "fill": {
           "color": "lavender"
          },
          "values": [
           [
            "scores_v2_gpt4turbo0409.csv",
            "scores_v2_mistralmoe.csv",
            "scores_v2_c3opus.csv",
            "scores_v2_llama3_70b.csv",
            "scores_v2_mistral7b.csv",
            "scores_v2_llama2_7b.csv",
            "scores_v2_gpt4_0613.csv",
            "scores_v2_llama3_8b.csv",
            "scores_v2_c3sonnet.csv",
            "scores_v2_geminipro15.csv",
            "scores_v2_rare_only_prompt_gpt4_0613.csv",
            "scores_v2_cohere_cplus.csv",
            "scores_v2_mixtralmoe_big.csv",
            "scores_v2_gpt4turbo1106.csv"
           ],
           [
            134,
            113,
            145,
            128,
            94,
            61,
            133,
            95,
            131,
            140,
            135,
            108,
            135,
            137
           ],
           [
            48,
            56,
            38,
            53,
            47,
            55,
            48,
            51,
            46,
            42,
            42,
            52,
            39,
            47
           ],
           [
            18,
            31,
            17,
            19,
            59,
            84,
            19,
            51,
            23,
            18,
            23,
            40,
            26,
            16
           ],
           [
            67,
            56.49999999999999,
            72.5,
            64,
            47,
            30.5,
            66.5,
            48.223350253807105,
            65.5,
            70,
            67.5,
            54,
            67.5,
            68.5
           ],
           [
            91,
            84.5,
            91.5,
            90.5,
            70.5,
            57.99999999999999,
            90.5,
            74.11167512690355,
            88.5,
            91,
            88.5,
            80,
            87,
            92
           ]
          ]
         },
         "domain": {
          "x": [
           0,
           1
          ],
          "y": [
           0.84375,
           1
          ]
         },
         "header": {
          "align": "left",
          "fill": {
           "color": "paleturquoise"
          },
          "values": [
           "File",
           "P1",
           "P5",
           "P0",
           "Strict Accuracy",
           "Lenient Accuracy"
          ]
         },
         "type": "table"
        },
        {
         "cells": {
          "align": "left",
          "fill": {
           "color": "lavender"
          },
          "values": [
           [
            "scores_v2_improved_c3sonnet.csv",
            "scores_v2_improved_gpt4_0613.csv"
           ],
           [
            139,
            144
           ],
           [
            36,
            33
           ],
           [
            25,
            23
           ],
           [
            69.5,
            72
           ],
           [
            87.5,
            88.5
           ]
          ]
         },
         "domain": {
          "x": [
           0,
           1
          ],
          "y": [
           0.5625,
           0.71875
          ]
         },
         "header": {
          "align": "left",
          "fill": {
           "color": "paleturquoise"
          },
          "values": [
           "File",
           "P1",
           "P5",
           "P0",
           "Strict Accuracy",
           "Lenient Accuracy"
          ]
         },
         "type": "table"
        },
        {
         "cells": {
          "align": "left",
          "fill": {
           "color": "lavender"
          },
          "values": [
           [
            "scores_URG_Torre_Dic_200_mistral7b.csv",
            "scores_URG_Torre_Dic_200_cohere_cplus.csv",
            "scores_URG_Torre_Dic_200_gpt4turbo0409.csv",
            "scores_URG_Torre_Dic_200_mistralmoe.csv",
            "scores_URG_Torre_Dic_200_mixtralmoe_big.csv",
            "scores_URG_Torre_Dic_200_c3sonnet.csv",
            "scores_URG_Torre_Dic_200_llama2_7b.csv",
            "scores_URG_Torre_Dic_200_gpt4_0613.csv",
            "scores_URG_Torre_Dic_200_llama3_70b.csv",
            "scores_URG_Torre_Dic_200_gpt4turbo1106.csv",
            "scores_URG_Torre_Dic_200_llama3_70b_ENG.csv",
            "scores_URG_Torre_Dic_200_geminipro15.csv",
            "scores_URG_Torre_Dic_200_llama3_8b.csv",
            "scores_URG_Torre_Dic_200_c3opus.csv"
           ],
           [
            50,
            56,
            70,
            62,
            59,
            61,
            35,
            57,
            43,
            74,
            27,
            56,
            45,
            58
           ],
           [
            84,
            109,
            101,
            93,
            110,
            114,
            79,
            105,
            107,
            94,
            75,
            110,
            91,
            110
           ],
           [
            66,
            35,
            29,
            45,
            31,
            25,
            86,
            37,
            46,
            32,
            86,
            31,
            64,
            32
           ],
           [
            25,
            28.000000000000004,
            35,
            31,
            29.5,
            30.5,
            17.5,
            28.643216080402013,
            21.93877551020408,
            37,
            14.361702127659576,
            28.426395939086298,
            22.5,
            28.999999999999996
           ],
           [
            67,
            82.5,
            85.5,
            77.5,
            84.5,
            87.5,
            56.99999999999999,
            81.4070351758794,
            76.53061224489795,
            84,
            54.25531914893617,
            84.26395939086294,
            68,
            84
           ]
          ]
         },
         "domain": {
          "x": [
           0,
           1
          ],
          "y": [
           0.28125,
           0.4375
          ]
         },
         "header": {
          "align": "left",
          "fill": {
           "color": "paleturquoise"
          },
          "values": [
           "File",
           "P1",
           "P5",
           "P0",
           "Strict Accuracy",
           "Lenient Accuracy"
          ]
         },
         "type": "table"
        },
        {
         "cells": {
          "align": "left",
          "fill": {
           "color": "lavender"
          },
          "values": [
           [
            "scores_URG_Torre_Dic_200_improved_c3opus.csv",
            "scores_URG_Torre_Dic_200_improved_gpt4_0613.csv",
            "scores_URG_Torre_Dic_200_improved_c3sonnet.csv"
           ],
           [
            55,
            65,
            62
           ],
           [
            104,
            98,
            110
           ],
           [
            40,
            37,
            27
           ],
           [
            27.63819095477387,
            32.5,
            31.155778894472363
           ],
           [
            79.89949748743719,
            81.5,
            86.4321608040201
           ]
          ]
         },
         "domain": {
          "x": [
           0,
           1
          ],
          "y": [
           0,
           0.15625
          ]
         },
         "header": {
          "align": "left",
          "fill": {
           "color": "paleturquoise"
          },
          "values": [
           "File",
           "P1",
           "P5",
           "P0",
           "Strict Accuracy",
           "Lenient Accuracy"
          ]
         },
         "type": "table"
        }
       ],
       "layout": {
        "annotations": [
         {
          "font": {
           "size": 16
          },
          "showarrow": false,
          "text": "v2 Files",
          "x": 0.5,
          "xanchor": "center",
          "xref": "paper",
          "y": 1,
          "yanchor": "bottom",
          "yref": "paper"
         },
         {
          "font": {
           "size": 16
          },
          "showarrow": false,
          "text": "v2 Improved Files",
          "x": 0.5,
          "xanchor": "center",
          "xref": "paper",
          "y": 0.71875,
          "yanchor": "bottom",
          "yref": "paper"
         },
         {
          "font": {
           "size": 16
          },
          "showarrow": false,
          "text": "URG Files",
          "x": 0.5,
          "xanchor": "center",
          "xref": "paper",
          "y": 0.4375,
          "yanchor": "bottom",
          "yref": "paper"
         },
         {
          "font": {
           "size": 16
          },
          "showarrow": false,
          "text": "URG Improved Files",
          "x": 0.5,
          "xanchor": "center",
          "xref": "paper",
          "y": 0.15625,
          "yanchor": "bottom",
          "yref": "paper"
         }
        ],
        "height": 1200,
        "template": {
         "data": {
          "bar": [
           {
            "error_x": {
             "color": "#2a3f5f"
            },
            "error_y": {
             "color": "#2a3f5f"
            },
            "marker": {
             "line": {
              "color": "#E5ECF6",
              "width": 0.5
             },
             "pattern": {
              "fillmode": "overlay",
              "size": 10,
              "solidity": 0.2
             }
            },
            "type": "bar"
           }
          ],
          "barpolar": [
           {
            "marker": {
             "line": {
              "color": "#E5ECF6",
              "width": 0.5
             },
             "pattern": {
              "fillmode": "overlay",
              "size": 10,
              "solidity": 0.2
             }
            },
            "type": "barpolar"
           }
          ],
          "carpet": [
           {
            "aaxis": {
             "endlinecolor": "#2a3f5f",
             "gridcolor": "white",
             "linecolor": "white",
             "minorgridcolor": "white",
             "startlinecolor": "#2a3f5f"
            },
            "baxis": {
             "endlinecolor": "#2a3f5f",
             "gridcolor": "white",
             "linecolor": "white",
             "minorgridcolor": "white",
             "startlinecolor": "#2a3f5f"
            },
            "type": "carpet"
           }
          ],
          "choropleth": [
           {
            "colorbar": {
             "outlinewidth": 0,
             "ticks": ""
            },
            "type": "choropleth"
           }
          ],
          "contour": [
           {
            "colorbar": {
             "outlinewidth": 0,
             "ticks": ""
            },
            "colorscale": [
             [
              0,
              "#0d0887"
             ],
             [
              0.1111111111111111,
              "#46039f"
             ],
             [
              0.2222222222222222,
              "#7201a8"
             ],
             [
              0.3333333333333333,
              "#9c179e"
             ],
             [
              0.4444444444444444,
              "#bd3786"
             ],
             [
              0.5555555555555556,
              "#d8576b"
             ],
             [
              0.6666666666666666,
              "#ed7953"
             ],
             [
              0.7777777777777778,
              "#fb9f3a"
             ],
             [
              0.8888888888888888,
              "#fdca26"
             ],
             [
              1,
              "#f0f921"
             ]
            ],
            "type": "contour"
           }
          ],
          "contourcarpet": [
           {
            "colorbar": {
             "outlinewidth": 0,
             "ticks": ""
            },
            "type": "contourcarpet"
           }
          ],
          "heatmap": [
           {
            "colorbar": {
             "outlinewidth": 0,
             "ticks": ""
            },
            "colorscale": [
             [
              0,
              "#0d0887"
             ],
             [
              0.1111111111111111,
              "#46039f"
             ],
             [
              0.2222222222222222,
              "#7201a8"
             ],
             [
              0.3333333333333333,
              "#9c179e"
             ],
             [
              0.4444444444444444,
              "#bd3786"
             ],
             [
              0.5555555555555556,
              "#d8576b"
             ],
             [
              0.6666666666666666,
              "#ed7953"
             ],
             [
              0.7777777777777778,
              "#fb9f3a"
             ],
             [
              0.8888888888888888,
              "#fdca26"
             ],
             [
              1,
              "#f0f921"
             ]
            ],
            "type": "heatmap"
           }
          ],
          "heatmapgl": [
           {
            "colorbar": {
             "outlinewidth": 0,
             "ticks": ""
            },
            "colorscale": [
             [
              0,
              "#0d0887"
             ],
             [
              0.1111111111111111,
              "#46039f"
             ],
             [
              0.2222222222222222,
              "#7201a8"
             ],
             [
              0.3333333333333333,
              "#9c179e"
             ],
             [
              0.4444444444444444,
              "#bd3786"
             ],
             [
              0.5555555555555556,
              "#d8576b"
             ],
             [
              0.6666666666666666,
              "#ed7953"
             ],
             [
              0.7777777777777778,
              "#fb9f3a"
             ],
             [
              0.8888888888888888,
              "#fdca26"
             ],
             [
              1,
              "#f0f921"
             ]
            ],
            "type": "heatmapgl"
           }
          ],
          "histogram": [
           {
            "marker": {
             "pattern": {
              "fillmode": "overlay",
              "size": 10,
              "solidity": 0.2
             }
            },
            "type": "histogram"
           }
          ],
          "histogram2d": [
           {
            "colorbar": {
             "outlinewidth": 0,
             "ticks": ""
            },
            "colorscale": [
             [
              0,
              "#0d0887"
             ],
             [
              0.1111111111111111,
              "#46039f"
             ],
             [
              0.2222222222222222,
              "#7201a8"
             ],
             [
              0.3333333333333333,
              "#9c179e"
             ],
             [
              0.4444444444444444,
              "#bd3786"
             ],
             [
              0.5555555555555556,
              "#d8576b"
             ],
             [
              0.6666666666666666,
              "#ed7953"
             ],
             [
              0.7777777777777778,
              "#fb9f3a"
             ],
             [
              0.8888888888888888,
              "#fdca26"
             ],
             [
              1,
              "#f0f921"
             ]
            ],
            "type": "histogram2d"
           }
          ],
          "histogram2dcontour": [
           {
            "colorbar": {
             "outlinewidth": 0,
             "ticks": ""
            },
            "colorscale": [
             [
              0,
              "#0d0887"
             ],
             [
              0.1111111111111111,
              "#46039f"
             ],
             [
              0.2222222222222222,
              "#7201a8"
             ],
             [
              0.3333333333333333,
              "#9c179e"
             ],
             [
              0.4444444444444444,
              "#bd3786"
             ],
             [
              0.5555555555555556,
              "#d8576b"
             ],
             [
              0.6666666666666666,
              "#ed7953"
             ],
             [
              0.7777777777777778,
              "#fb9f3a"
             ],
             [
              0.8888888888888888,
              "#fdca26"
             ],
             [
              1,
              "#f0f921"
             ]
            ],
            "type": "histogram2dcontour"
           }
          ],
          "mesh3d": [
           {
            "colorbar": {
             "outlinewidth": 0,
             "ticks": ""
            },
            "type": "mesh3d"
           }
          ],
          "parcoords": [
           {
            "line": {
             "colorbar": {
              "outlinewidth": 0,
              "ticks": ""
             }
            },
            "type": "parcoords"
           }
          ],
          "pie": [
           {
            "automargin": true,
            "type": "pie"
           }
          ],
          "scatter": [
           {
            "fillpattern": {
             "fillmode": "overlay",
             "size": 10,
             "solidity": 0.2
            },
            "type": "scatter"
           }
          ],
          "scatter3d": [
           {
            "line": {
             "colorbar": {
              "outlinewidth": 0,
              "ticks": ""
             }
            },
            "marker": {
             "colorbar": {
              "outlinewidth": 0,
              "ticks": ""
             }
            },
            "type": "scatter3d"
           }
          ],
          "scattercarpet": [
           {
            "marker": {
             "colorbar": {
              "outlinewidth": 0,
              "ticks": ""
             }
            },
            "type": "scattercarpet"
           }
          ],
          "scattergeo": [
           {
            "marker": {
             "colorbar": {
              "outlinewidth": 0,
              "ticks": ""
             }
            },
            "type": "scattergeo"
           }
          ],
          "scattergl": [
           {
            "marker": {
             "colorbar": {
              "outlinewidth": 0,
              "ticks": ""
             }
            },
            "type": "scattergl"
           }
          ],
          "scattermapbox": [
           {
            "marker": {
             "colorbar": {
              "outlinewidth": 0,
              "ticks": ""
             }
            },
            "type": "scattermapbox"
           }
          ],
          "scatterpolar": [
           {
            "marker": {
             "colorbar": {
              "outlinewidth": 0,
              "ticks": ""
             }
            },
            "type": "scatterpolar"
           }
          ],
          "scatterpolargl": [
           {
            "marker": {
             "colorbar": {
              "outlinewidth": 0,
              "ticks": ""
             }
            },
            "type": "scatterpolargl"
           }
          ],
          "scatterternary": [
           {
            "marker": {
             "colorbar": {
              "outlinewidth": 0,
              "ticks": ""
             }
            },
            "type": "scatterternary"
           }
          ],
          "surface": [
           {
            "colorbar": {
             "outlinewidth": 0,
             "ticks": ""
            },
            "colorscale": [
             [
              0,
              "#0d0887"
             ],
             [
              0.1111111111111111,
              "#46039f"
             ],
             [
              0.2222222222222222,
              "#7201a8"
             ],
             [
              0.3333333333333333,
              "#9c179e"
             ],
             [
              0.4444444444444444,
              "#bd3786"
             ],
             [
              0.5555555555555556,
              "#d8576b"
             ],
             [
              0.6666666666666666,
              "#ed7953"
             ],
             [
              0.7777777777777778,
              "#fb9f3a"
             ],
             [
              0.8888888888888888,
              "#fdca26"
             ],
             [
              1,
              "#f0f921"
             ]
            ],
            "type": "surface"
           }
          ],
          "table": [
           {
            "cells": {
             "fill": {
              "color": "#EBF0F8"
             },
             "line": {
              "color": "white"
             }
            },
            "header": {
             "fill": {
              "color": "#C8D4E3"
             },
             "line": {
              "color": "white"
             }
            },
            "type": "table"
           }
          ]
         },
         "layout": {
          "annotationdefaults": {
           "arrowcolor": "#2a3f5f",
           "arrowhead": 0,
           "arrowwidth": 1
          },
          "autotypenumbers": "strict",
          "coloraxis": {
           "colorbar": {
            "outlinewidth": 0,
            "ticks": ""
           }
          },
          "colorscale": {
           "diverging": [
            [
             0,
             "#8e0152"
            ],
            [
             0.1,
             "#c51b7d"
            ],
            [
             0.2,
             "#de77ae"
            ],
            [
             0.3,
             "#f1b6da"
            ],
            [
             0.4,
             "#fde0ef"
            ],
            [
             0.5,
             "#f7f7f7"
            ],
            [
             0.6,
             "#e6f5d0"
            ],
            [
             0.7,
             "#b8e186"
            ],
            [
             0.8,
             "#7fbc41"
            ],
            [
             0.9,
             "#4d9221"
            ],
            [
             1,
             "#276419"
            ]
           ],
           "sequential": [
            [
             0,
             "#0d0887"
            ],
            [
             0.1111111111111111,
             "#46039f"
            ],
            [
             0.2222222222222222,
             "#7201a8"
            ],
            [
             0.3333333333333333,
             "#9c179e"
            ],
            [
             0.4444444444444444,
             "#bd3786"
            ],
            [
             0.5555555555555556,
             "#d8576b"
            ],
            [
             0.6666666666666666,
             "#ed7953"
            ],
            [
             0.7777777777777778,
             "#fb9f3a"
            ],
            [
             0.8888888888888888,
             "#fdca26"
            ],
            [
             1,
             "#f0f921"
            ]
           ],
           "sequentialminus": [
            [
             0,
             "#0d0887"
            ],
            [
             0.1111111111111111,
             "#46039f"
            ],
            [
             0.2222222222222222,
             "#7201a8"
            ],
            [
             0.3333333333333333,
             "#9c179e"
            ],
            [
             0.4444444444444444,
             "#bd3786"
            ],
            [
             0.5555555555555556,
             "#d8576b"
            ],
            [
             0.6666666666666666,
             "#ed7953"
            ],
            [
             0.7777777777777778,
             "#fb9f3a"
            ],
            [
             0.8888888888888888,
             "#fdca26"
            ],
            [
             1,
             "#f0f921"
            ]
           ]
          },
          "colorway": [
           "#636efa",
           "#EF553B",
           "#00cc96",
           "#ab63fa",
           "#FFA15A",
           "#19d3f3",
           "#FF6692",
           "#B6E880",
           "#FF97FF",
           "#FECB52"
          ],
          "font": {
           "color": "#2a3f5f"
          },
          "geo": {
           "bgcolor": "white",
           "lakecolor": "white",
           "landcolor": "#E5ECF6",
           "showlakes": true,
           "showland": true,
           "subunitcolor": "white"
          },
          "hoverlabel": {
           "align": "left"
          },
          "hovermode": "closest",
          "mapbox": {
           "style": "light"
          },
          "paper_bgcolor": "white",
          "plot_bgcolor": "#E5ECF6",
          "polar": {
           "angularaxis": {
            "gridcolor": "white",
            "linecolor": "white",
            "ticks": ""
           },
           "bgcolor": "#E5ECF6",
           "radialaxis": {
            "gridcolor": "white",
            "linecolor": "white",
            "ticks": ""
           }
          },
          "scene": {
           "xaxis": {
            "backgroundcolor": "#E5ECF6",
            "gridcolor": "white",
            "gridwidth": 2,
            "linecolor": "white",
            "showbackground": true,
            "ticks": "",
            "zerolinecolor": "white"
           },
           "yaxis": {
            "backgroundcolor": "#E5ECF6",
            "gridcolor": "white",
            "gridwidth": 2,
            "linecolor": "white",
            "showbackground": true,
            "ticks": "",
            "zerolinecolor": "white"
           },
           "zaxis": {
            "backgroundcolor": "#E5ECF6",
            "gridcolor": "white",
            "gridwidth": 2,
            "linecolor": "white",
            "showbackground": true,
            "ticks": "",
            "zerolinecolor": "white"
           }
          },
          "shapedefaults": {
           "line": {
            "color": "#2a3f5f"
           }
          },
          "ternary": {
           "aaxis": {
            "gridcolor": "white",
            "linecolor": "white",
            "ticks": ""
           },
           "baxis": {
            "gridcolor": "white",
            "linecolor": "white",
            "ticks": ""
           },
           "bgcolor": "#E5ECF6",
           "caxis": {
            "gridcolor": "white",
            "linecolor": "white",
            "ticks": ""
           }
          },
          "title": {
           "x": 0.05
          },
          "xaxis": {
           "automargin": true,
           "gridcolor": "white",
           "linecolor": "white",
           "ticks": "",
           "title": {
            "standoff": 15
           },
           "zerolinecolor": "white",
           "zerolinewidth": 2
          },
          "yaxis": {
           "automargin": true,
           "gridcolor": "white",
           "linecolor": "white",
           "ticks": "",
           "title": {
            "standoff": 15
           },
           "zerolinecolor": "white",
           "zerolinewidth": 2
          }
         }
        },
        "title": {
         "text": "Prediction Scores Dashboard"
        }
       }
      }
     },
     "metadata": {},
     "output_type": "display_data"
    }
   ],
   "source": [
    "# Create lists to store the data for each file group\n",
    "data_v2 = []\n",
    "data_v2_improved = []\n",
    "data_URG = []\n",
    "data_URG_improved = []\n",
    "\n",
    "# Process files_v2 and store the data\n",
    "for file in files_v2:\n",
    "    df = pd.read_csv(f'{path}/{file}')\n",
    "    count_p1, count_p5, count_p0, strict_accuracy, lenient_accuracy = get_stats_for_df(df)\n",
    "    if 'improved' in file:\n",
    "        data_v2_improved.append([file, count_p1, count_p5, count_p0, strict_accuracy, lenient_accuracy])\n",
    "    else:\n",
    "        data_v2.append([file, count_p1, count_p5, count_p0, strict_accuracy, lenient_accuracy])\n",
    "\n",
    "# Process files_URG and store the data\n",
    "for file in files_URG:\n",
    "    df = pd.read_csv(f'{path}/{file}')\n",
    "    count_p1, count_p5, count_p0, strict_accuracy, lenient_accuracy = get_stats_for_df(df)\n",
    "    if 'improved' in file:\n",
    "        data_URG_improved.append([file, count_p1, count_p5, count_p0, strict_accuracy, lenient_accuracy])\n",
    "    else:\n",
    "        data_URG.append([file, count_p1, count_p5, count_p0, strict_accuracy, lenient_accuracy])\n",
    "\n",
    "# Create DataFrames for each file group\n",
    "df_v2 = pd.DataFrame(data_v2, columns=['File', 'P1', 'P5', 'P0', 'Strict Accuracy', 'Lenient Accuracy'])\n",
    "df_v2_improved = pd.DataFrame(data_v2_improved, columns=['File', 'P1', 'P5', 'P0', 'Strict Accuracy', 'Lenient Accuracy'])\n",
    "df_URG = pd.DataFrame(data_URG, columns=['File', 'P1', 'P5', 'P0', 'Strict Accuracy', 'Lenient Accuracy'])\n",
    "df_URG_improved = pd.DataFrame(data_URG_improved, columns=['File', 'P1', 'P5', 'P0', 'Strict Accuracy', 'Lenient Accuracy'])\n",
    "\n",
    "# Create subplots with 4 rows and 1 column, specifying subplot type as 'domain'\n",
    "fig = make_subplots(rows=4, cols=1, subplot_titles=('v2 Files', 'v2 Improved Files', 'URG Files', 'URG Improved Files'),\n",
    "                    specs=[[{'type': 'domain'}], [{'type': 'domain'}], [{'type': 'domain'}], [{'type': 'domain'}]])\n",
    "\n",
    "# Add the tables to the respective subplots\n",
    "fig.add_trace(go.Table(\n",
    "    header=dict(values=list(df_v2.columns), fill_color='paleturquoise', align='left'),\n",
    "    cells=dict(values=[df_v2.File, df_v2.P1, df_v2.P5, df_v2.P0, df_v2['Strict Accuracy'], df_v2['Lenient Accuracy']],\n",
    "               fill_color='lavender', align='left')\n",
    "), row=1, col=1)\n",
    "\n",
    "fig.add_trace(go.Table(\n",
    "    header=dict(values=list(df_v2_improved.columns), fill_color='paleturquoise', align='left'),\n",
    "    cells=dict(values=[df_v2_improved.File, df_v2_improved.P1, df_v2_improved.P5, df_v2_improved.P0, df_v2_improved['Strict Accuracy'], df_v2_improved['Lenient Accuracy']],\n",
    "               fill_color='lavender', align='left')\n",
    "), row=2, col=1)\n",
    "\n",
    "fig.add_trace(go.Table(\n",
    "    header=dict(values=list(df_URG.columns), fill_color='paleturquoise', align='left'),\n",
    "    cells=dict(values=[df_URG.File, df_URG.P1, df_URG.P5, df_URG.P0, df_URG['Strict Accuracy'], df_URG['Lenient Accuracy']],\n",
    "               fill_color='lavender', align='left')\n",
    "), row=3, col=1)\n",
    "\n",
    "fig.add_trace(go.Table(\n",
    "    header=dict(values=list(df_URG_improved.columns), fill_color='paleturquoise', align='left'),\n",
    "    cells=dict(values=[df_URG_improved.File, df_URG_improved.P1, df_URG_improved.P5, df_URG_improved.P0, df_URG_improved['Strict Accuracy'], df_URG_improved['Lenient Accuracy']],\n",
    "               fill_color='lavender', align='left')\n",
    "), row=4, col=1)\n",
    "\n",
    "# Update the layout\n",
    "fig.update_layout(\n",
    "    title='Prediction Scores Dashboard',\n",
    "    height=1200\n",
    ")\n",
    "\n",
    "# Display the dashboard\n",
    "fig.show()"
   ]
  },
  {
   "cell_type": "markdown",
   "metadata": {},
   "source": [
    "### Lastly, we create a dashboard with 4 rows and 3 columns\n",
    "### We add the tables to the respective subplots\n",
    "### We also create graphs for the accuracy and scores for each file group\n",
    "### We update the layout and display the dashboard\n",
    "\n",
    "# ----------\n",
    "\n",
    "### Por último, creamos un tablero con 4 filas y 3 columnas\n",
    "### Añadimos las tablas a los subplots correspondientes\n",
    "### También creamos gráficos para la precisión y puntuaciones de cada grupo de archivos\n",
    "### Actualizamos el diseño y mostramos el tablero"
   ]
  },
  {
   "cell_type": "code",
   "execution_count": 6,
   "metadata": {},
   "outputs": [
    {
     "data": {
      "application/vnd.plotly.v1+json": {
       "config": {
        "plotlyServerURL": "https://plot.ly"
       },
       "data": [
        {
         "cells": {
          "align": "left",
          "fill": {
           "color": "lavender"
          },
          "values": [
           [
            "scores_v2_gpt4turbo0409.csv",
            "scores_v2_mistralmoe.csv",
            "scores_v2_c3opus.csv",
            "scores_v2_llama3_70b.csv",
            "scores_v2_mistral7b.csv",
            "scores_v2_llama2_7b.csv",
            "scores_v2_gpt4_0613.csv",
            "scores_v2_llama3_8b.csv",
            "scores_v2_c3sonnet.csv",
            "scores_v2_geminipro15.csv",
            "scores_v2_rare_only_prompt_gpt4_0613.csv",
            "scores_v2_cohere_cplus.csv",
            "scores_v2_mixtralmoe_big.csv",
            "scores_v2_gpt4turbo1106.csv"
           ],
           [
            134,
            113,
            145,
            128,
            94,
            61,
            133,
            95,
            131,
            140,
            135,
            108,
            135,
            137
           ],
           [
            48,
            56,
            38,
            53,
            47,
            55,
            48,
            51,
            46,
            42,
            42,
            52,
            39,
            47
           ],
           [
            18,
            31,
            17,
            19,
            59,
            84,
            19,
            51,
            23,
            18,
            23,
            40,
            26,
            16
           ],
           [
            67,
            56.49999999999999,
            72.5,
            64,
            47,
            30.5,
            66.5,
            48.223350253807105,
            65.5,
            70,
            67.5,
            54,
            67.5,
            68.5
           ],
           [
            91,
            84.5,
            91.5,
            90.5,
            70.5,
            57.99999999999999,
            90.5,
            74.11167512690355,
            88.5,
            91,
            88.5,
            80,
            87,
            92
           ]
          ]
         },
         "domain": {
          "x": [
           0,
           0.2888888888888889
          ],
          "y": [
           0.84375,
           1
          ]
         },
         "header": {
          "align": "left",
          "fill": {
           "color": "paleturquoise"
          },
          "values": [
           "File",
           "P1",
           "P5",
           "P0",
           "Strict Accuracy",
           "Lenient Accuracy"
          ]
         },
         "type": "table"
        },
        {
         "cells": {
          "align": "left",
          "fill": {
           "color": "lavender"
          },
          "values": [
           [
            "scores_v2_improved_c3sonnet.csv",
            "scores_v2_improved_gpt4_0613.csv"
           ],
           [
            139,
            144
           ],
           [
            36,
            33
           ],
           [
            25,
            23
           ],
           [
            69.5,
            72
           ],
           [
            87.5,
            88.5
           ]
          ]
         },
         "domain": {
          "x": [
           0,
           0.2888888888888889
          ],
          "y": [
           0.5625,
           0.71875
          ]
         },
         "header": {
          "align": "left",
          "fill": {
           "color": "paleturquoise"
          },
          "values": [
           "File",
           "P1",
           "P5",
           "P0",
           "Strict Accuracy",
           "Lenient Accuracy"
          ]
         },
         "type": "table"
        },
        {
         "cells": {
          "align": "left",
          "fill": {
           "color": "lavender"
          },
          "values": [
           [
            "scores_URG_Torre_Dic_200_mistral7b.csv",
            "scores_URG_Torre_Dic_200_cohere_cplus.csv",
            "scores_URG_Torre_Dic_200_gpt4turbo0409.csv",
            "scores_URG_Torre_Dic_200_mistralmoe.csv",
            "scores_URG_Torre_Dic_200_mixtralmoe_big.csv",
            "scores_URG_Torre_Dic_200_c3sonnet.csv",
            "scores_URG_Torre_Dic_200_llama2_7b.csv",
            "scores_URG_Torre_Dic_200_gpt4_0613.csv",
            "scores_URG_Torre_Dic_200_llama3_70b.csv",
            "scores_URG_Torre_Dic_200_gpt4turbo1106.csv",
            "scores_URG_Torre_Dic_200_llama3_70b_ENG.csv",
            "scores_URG_Torre_Dic_200_geminipro15.csv",
            "scores_URG_Torre_Dic_200_llama3_8b.csv",
            "scores_URG_Torre_Dic_200_c3opus.csv"
           ],
           [
            50,
            56,
            70,
            62,
            59,
            61,
            35,
            57,
            43,
            74,
            27,
            56,
            45,
            58
           ],
           [
            84,
            109,
            101,
            93,
            110,
            114,
            79,
            105,
            107,
            94,
            75,
            110,
            91,
            110
           ],
           [
            66,
            35,
            29,
            45,
            31,
            25,
            86,
            37,
            46,
            32,
            86,
            31,
            64,
            32
           ],
           [
            25,
            28.000000000000004,
            35,
            31,
            29.5,
            30.5,
            17.5,
            28.643216080402013,
            21.93877551020408,
            37,
            14.361702127659576,
            28.426395939086298,
            22.5,
            28.999999999999996
           ],
           [
            67,
            82.5,
            85.5,
            77.5,
            84.5,
            87.5,
            56.99999999999999,
            81.4070351758794,
            76.53061224489795,
            84,
            54.25531914893617,
            84.26395939086294,
            68,
            84
           ]
          ]
         },
         "domain": {
          "x": [
           0,
           0.2888888888888889
          ],
          "y": [
           0.28125,
           0.4375
          ]
         },
         "header": {
          "align": "left",
          "fill": {
           "color": "paleturquoise"
          },
          "values": [
           "File",
           "P1",
           "P5",
           "P0",
           "Strict Accuracy",
           "Lenient Accuracy"
          ]
         },
         "type": "table"
        },
        {
         "cells": {
          "align": "left",
          "fill": {
           "color": "lavender"
          },
          "values": [
           [
            "scores_URG_Torre_Dic_200_improved_c3opus.csv",
            "scores_URG_Torre_Dic_200_improved_gpt4_0613.csv",
            "scores_URG_Torre_Dic_200_improved_c3sonnet.csv"
           ],
           [
            55,
            65,
            62
           ],
           [
            104,
            98,
            110
           ],
           [
            40,
            37,
            27
           ],
           [
            27.63819095477387,
            32.5,
            31.155778894472363
           ],
           [
            79.89949748743719,
            81.5,
            86.4321608040201
           ]
          ]
         },
         "domain": {
          "x": [
           0,
           0.2888888888888889
          ],
          "y": [
           0,
           0.15625
          ]
         },
         "header": {
          "align": "left",
          "fill": {
           "color": "paleturquoise"
          },
          "values": [
           "File",
           "P1",
           "P5",
           "P0",
           "Strict Accuracy",
           "Lenient Accuracy"
          ]
         },
         "type": "table"
        },
        {
         "marker": {
          "color": "blue"
         },
         "name": "Strict Accuracy",
         "type": "bar",
         "x": [
          "scores_v2_gpt4turbo0409.csv",
          "scores_v2_mistralmoe.csv",
          "scores_v2_c3opus.csv",
          "scores_v2_llama3_70b.csv",
          "scores_v2_mistral7b.csv",
          "scores_v2_llama2_7b.csv",
          "scores_v2_gpt4_0613.csv",
          "scores_v2_llama3_8b.csv",
          "scores_v2_c3sonnet.csv",
          "scores_v2_geminipro15.csv",
          "scores_v2_rare_only_prompt_gpt4_0613.csv",
          "scores_v2_cohere_cplus.csv",
          "scores_v2_mixtralmoe_big.csv",
          "scores_v2_gpt4turbo1106.csv"
         ],
         "xaxis": "x",
         "y": [
          67,
          56.49999999999999,
          72.5,
          64,
          47,
          30.5,
          66.5,
          48.223350253807105,
          65.5,
          70,
          67.5,
          54,
          67.5,
          68.5
         ],
         "yaxis": "y"
        },
        {
         "marker": {
          "color": "green"
         },
         "name": "Lenient Accuracy",
         "type": "bar",
         "x": [
          "scores_v2_gpt4turbo0409.csv",
          "scores_v2_mistralmoe.csv",
          "scores_v2_c3opus.csv",
          "scores_v2_llama3_70b.csv",
          "scores_v2_mistral7b.csv",
          "scores_v2_llama2_7b.csv",
          "scores_v2_gpt4_0613.csv",
          "scores_v2_llama3_8b.csv",
          "scores_v2_c3sonnet.csv",
          "scores_v2_geminipro15.csv",
          "scores_v2_rare_only_prompt_gpt4_0613.csv",
          "scores_v2_cohere_cplus.csv",
          "scores_v2_mixtralmoe_big.csv",
          "scores_v2_gpt4turbo1106.csv"
         ],
         "xaxis": "x",
         "y": [
          91,
          84.5,
          91.5,
          90.5,
          70.5,
          57.99999999999999,
          90.5,
          74.11167512690355,
          88.5,
          91,
          88.5,
          80,
          87,
          92
         ],
         "yaxis": "y"
        },
        {
         "marker": {
          "color": "red"
         },
         "name": "P1",
         "type": "bar",
         "x": [
          "scores_v2_gpt4turbo0409.csv",
          "scores_v2_mistralmoe.csv",
          "scores_v2_c3opus.csv",
          "scores_v2_llama3_70b.csv",
          "scores_v2_mistral7b.csv",
          "scores_v2_llama2_7b.csv",
          "scores_v2_gpt4_0613.csv",
          "scores_v2_llama3_8b.csv",
          "scores_v2_c3sonnet.csv",
          "scores_v2_geminipro15.csv",
          "scores_v2_rare_only_prompt_gpt4_0613.csv",
          "scores_v2_cohere_cplus.csv",
          "scores_v2_mixtralmoe_big.csv",
          "scores_v2_gpt4turbo1106.csv"
         ],
         "xaxis": "x2",
         "y": [
          134,
          113,
          145,
          128,
          94,
          61,
          133,
          95,
          131,
          140,
          135,
          108,
          135,
          137
         ],
         "yaxis": "y2"
        },
        {
         "marker": {
          "color": "orange"
         },
         "name": "P5",
         "type": "bar",
         "x": [
          "scores_v2_gpt4turbo0409.csv",
          "scores_v2_mistralmoe.csv",
          "scores_v2_c3opus.csv",
          "scores_v2_llama3_70b.csv",
          "scores_v2_mistral7b.csv",
          "scores_v2_llama2_7b.csv",
          "scores_v2_gpt4_0613.csv",
          "scores_v2_llama3_8b.csv",
          "scores_v2_c3sonnet.csv",
          "scores_v2_geminipro15.csv",
          "scores_v2_rare_only_prompt_gpt4_0613.csv",
          "scores_v2_cohere_cplus.csv",
          "scores_v2_mixtralmoe_big.csv",
          "scores_v2_gpt4turbo1106.csv"
         ],
         "xaxis": "x2",
         "y": [
          48,
          56,
          38,
          53,
          47,
          55,
          48,
          51,
          46,
          42,
          42,
          52,
          39,
          47
         ],
         "yaxis": "y2"
        },
        {
         "marker": {
          "color": "purple"
         },
         "name": "P0",
         "type": "bar",
         "x": [
          "scores_v2_gpt4turbo0409.csv",
          "scores_v2_mistralmoe.csv",
          "scores_v2_c3opus.csv",
          "scores_v2_llama3_70b.csv",
          "scores_v2_mistral7b.csv",
          "scores_v2_llama2_7b.csv",
          "scores_v2_gpt4_0613.csv",
          "scores_v2_llama3_8b.csv",
          "scores_v2_c3sonnet.csv",
          "scores_v2_geminipro15.csv",
          "scores_v2_rare_only_prompt_gpt4_0613.csv",
          "scores_v2_cohere_cplus.csv",
          "scores_v2_mixtralmoe_big.csv",
          "scores_v2_gpt4turbo1106.csv"
         ],
         "xaxis": "x2",
         "y": [
          18,
          31,
          17,
          19,
          59,
          84,
          19,
          51,
          23,
          18,
          23,
          40,
          26,
          16
         ],
         "yaxis": "y2"
        },
        {
         "marker": {
          "color": "blue"
         },
         "name": "Strict Accuracy",
         "type": "bar",
         "x": [
          "scores_v2_improved_c3sonnet.csv",
          "scores_v2_improved_gpt4_0613.csv"
         ],
         "xaxis": "x3",
         "y": [
          69.5,
          72
         ],
         "yaxis": "y3"
        },
        {
         "marker": {
          "color": "green"
         },
         "name": "Lenient Accuracy",
         "type": "bar",
         "x": [
          "scores_v2_improved_c3sonnet.csv",
          "scores_v2_improved_gpt4_0613.csv"
         ],
         "xaxis": "x3",
         "y": [
          87.5,
          88.5
         ],
         "yaxis": "y3"
        },
        {
         "marker": {
          "color": "red"
         },
         "name": "P1",
         "type": "bar",
         "x": [
          "scores_v2_improved_c3sonnet.csv",
          "scores_v2_improved_gpt4_0613.csv"
         ],
         "xaxis": "x4",
         "y": [
          139,
          144
         ],
         "yaxis": "y4"
        },
        {
         "marker": {
          "color": "orange"
         },
         "name": "P5",
         "type": "bar",
         "x": [
          "scores_v2_improved_c3sonnet.csv",
          "scores_v2_improved_gpt4_0613.csv"
         ],
         "xaxis": "x4",
         "y": [
          36,
          33
         ],
         "yaxis": "y4"
        },
        {
         "marker": {
          "color": "purple"
         },
         "name": "P0",
         "type": "bar",
         "x": [
          "scores_v2_improved_c3sonnet.csv",
          "scores_v2_improved_gpt4_0613.csv"
         ],
         "xaxis": "x4",
         "y": [
          25,
          23
         ],
         "yaxis": "y4"
        },
        {
         "marker": {
          "color": "blue"
         },
         "name": "Strict Accuracy",
         "type": "bar",
         "x": [
          "scores_URG_Torre_Dic_200_mistral7b.csv",
          "scores_URG_Torre_Dic_200_cohere_cplus.csv",
          "scores_URG_Torre_Dic_200_gpt4turbo0409.csv",
          "scores_URG_Torre_Dic_200_mistralmoe.csv",
          "scores_URG_Torre_Dic_200_mixtralmoe_big.csv",
          "scores_URG_Torre_Dic_200_c3sonnet.csv",
          "scores_URG_Torre_Dic_200_llama2_7b.csv",
          "scores_URG_Torre_Dic_200_gpt4_0613.csv",
          "scores_URG_Torre_Dic_200_llama3_70b.csv",
          "scores_URG_Torre_Dic_200_gpt4turbo1106.csv",
          "scores_URG_Torre_Dic_200_llama3_70b_ENG.csv",
          "scores_URG_Torre_Dic_200_geminipro15.csv",
          "scores_URG_Torre_Dic_200_llama3_8b.csv",
          "scores_URG_Torre_Dic_200_c3opus.csv"
         ],
         "xaxis": "x5",
         "y": [
          25,
          28.000000000000004,
          35,
          31,
          29.5,
          30.5,
          17.5,
          28.643216080402013,
          21.93877551020408,
          37,
          14.361702127659576,
          28.426395939086298,
          22.5,
          28.999999999999996
         ],
         "yaxis": "y5"
        },
        {
         "marker": {
          "color": "green"
         },
         "name": "Lenient Accuracy",
         "type": "bar",
         "x": [
          "scores_URG_Torre_Dic_200_mistral7b.csv",
          "scores_URG_Torre_Dic_200_cohere_cplus.csv",
          "scores_URG_Torre_Dic_200_gpt4turbo0409.csv",
          "scores_URG_Torre_Dic_200_mistralmoe.csv",
          "scores_URG_Torre_Dic_200_mixtralmoe_big.csv",
          "scores_URG_Torre_Dic_200_c3sonnet.csv",
          "scores_URG_Torre_Dic_200_llama2_7b.csv",
          "scores_URG_Torre_Dic_200_gpt4_0613.csv",
          "scores_URG_Torre_Dic_200_llama3_70b.csv",
          "scores_URG_Torre_Dic_200_gpt4turbo1106.csv",
          "scores_URG_Torre_Dic_200_llama3_70b_ENG.csv",
          "scores_URG_Torre_Dic_200_geminipro15.csv",
          "scores_URG_Torre_Dic_200_llama3_8b.csv",
          "scores_URG_Torre_Dic_200_c3opus.csv"
         ],
         "xaxis": "x5",
         "y": [
          67,
          82.5,
          85.5,
          77.5,
          84.5,
          87.5,
          56.99999999999999,
          81.4070351758794,
          76.53061224489795,
          84,
          54.25531914893617,
          84.26395939086294,
          68,
          84
         ],
         "yaxis": "y5"
        },
        {
         "marker": {
          "color": "red"
         },
         "name": "P1",
         "type": "bar",
         "x": [
          "scores_URG_Torre_Dic_200_mistral7b.csv",
          "scores_URG_Torre_Dic_200_cohere_cplus.csv",
          "scores_URG_Torre_Dic_200_gpt4turbo0409.csv",
          "scores_URG_Torre_Dic_200_mistralmoe.csv",
          "scores_URG_Torre_Dic_200_mixtralmoe_big.csv",
          "scores_URG_Torre_Dic_200_c3sonnet.csv",
          "scores_URG_Torre_Dic_200_llama2_7b.csv",
          "scores_URG_Torre_Dic_200_gpt4_0613.csv",
          "scores_URG_Torre_Dic_200_llama3_70b.csv",
          "scores_URG_Torre_Dic_200_gpt4turbo1106.csv",
          "scores_URG_Torre_Dic_200_llama3_70b_ENG.csv",
          "scores_URG_Torre_Dic_200_geminipro15.csv",
          "scores_URG_Torre_Dic_200_llama3_8b.csv",
          "scores_URG_Torre_Dic_200_c3opus.csv"
         ],
         "xaxis": "x6",
         "y": [
          50,
          56,
          70,
          62,
          59,
          61,
          35,
          57,
          43,
          74,
          27,
          56,
          45,
          58
         ],
         "yaxis": "y6"
        },
        {
         "marker": {
          "color": "orange"
         },
         "name": "P5",
         "type": "bar",
         "x": [
          "scores_URG_Torre_Dic_200_mistral7b.csv",
          "scores_URG_Torre_Dic_200_cohere_cplus.csv",
          "scores_URG_Torre_Dic_200_gpt4turbo0409.csv",
          "scores_URG_Torre_Dic_200_mistralmoe.csv",
          "scores_URG_Torre_Dic_200_mixtralmoe_big.csv",
          "scores_URG_Torre_Dic_200_c3sonnet.csv",
          "scores_URG_Torre_Dic_200_llama2_7b.csv",
          "scores_URG_Torre_Dic_200_gpt4_0613.csv",
          "scores_URG_Torre_Dic_200_llama3_70b.csv",
          "scores_URG_Torre_Dic_200_gpt4turbo1106.csv",
          "scores_URG_Torre_Dic_200_llama3_70b_ENG.csv",
          "scores_URG_Torre_Dic_200_geminipro15.csv",
          "scores_URG_Torre_Dic_200_llama3_8b.csv",
          "scores_URG_Torre_Dic_200_c3opus.csv"
         ],
         "xaxis": "x6",
         "y": [
          84,
          109,
          101,
          93,
          110,
          114,
          79,
          105,
          107,
          94,
          75,
          110,
          91,
          110
         ],
         "yaxis": "y6"
        },
        {
         "marker": {
          "color": "purple"
         },
         "name": "P0",
         "type": "bar",
         "x": [
          "scores_URG_Torre_Dic_200_mistral7b.csv",
          "scores_URG_Torre_Dic_200_cohere_cplus.csv",
          "scores_URG_Torre_Dic_200_gpt4turbo0409.csv",
          "scores_URG_Torre_Dic_200_mistralmoe.csv",
          "scores_URG_Torre_Dic_200_mixtralmoe_big.csv",
          "scores_URG_Torre_Dic_200_c3sonnet.csv",
          "scores_URG_Torre_Dic_200_llama2_7b.csv",
          "scores_URG_Torre_Dic_200_gpt4_0613.csv",
          "scores_URG_Torre_Dic_200_llama3_70b.csv",
          "scores_URG_Torre_Dic_200_gpt4turbo1106.csv",
          "scores_URG_Torre_Dic_200_llama3_70b_ENG.csv",
          "scores_URG_Torre_Dic_200_geminipro15.csv",
          "scores_URG_Torre_Dic_200_llama3_8b.csv",
          "scores_URG_Torre_Dic_200_c3opus.csv"
         ],
         "xaxis": "x6",
         "y": [
          66,
          35,
          29,
          45,
          31,
          25,
          86,
          37,
          46,
          32,
          86,
          31,
          64,
          32
         ],
         "yaxis": "y6"
        },
        {
         "marker": {
          "color": "blue"
         },
         "name": "Strict Accuracy",
         "type": "bar",
         "x": [
          "scores_URG_Torre_Dic_200_improved_c3opus.csv",
          "scores_URG_Torre_Dic_200_improved_gpt4_0613.csv",
          "scores_URG_Torre_Dic_200_improved_c3sonnet.csv"
         ],
         "xaxis": "x7",
         "y": [
          27.63819095477387,
          32.5,
          31.155778894472363
         ],
         "yaxis": "y7"
        },
        {
         "marker": {
          "color": "green"
         },
         "name": "Lenient Accuracy",
         "type": "bar",
         "x": [
          "scores_URG_Torre_Dic_200_improved_c3opus.csv",
          "scores_URG_Torre_Dic_200_improved_gpt4_0613.csv",
          "scores_URG_Torre_Dic_200_improved_c3sonnet.csv"
         ],
         "xaxis": "x7",
         "y": [
          79.89949748743719,
          81.5,
          86.4321608040201
         ],
         "yaxis": "y7"
        },
        {
         "marker": {
          "color": "red"
         },
         "name": "P1",
         "type": "bar",
         "x": [
          "scores_URG_Torre_Dic_200_improved_c3opus.csv",
          "scores_URG_Torre_Dic_200_improved_gpt4_0613.csv",
          "scores_URG_Torre_Dic_200_improved_c3sonnet.csv"
         ],
         "xaxis": "x8",
         "y": [
          55,
          65,
          62
         ],
         "yaxis": "y8"
        },
        {
         "marker": {
          "color": "orange"
         },
         "name": "P5",
         "type": "bar",
         "x": [
          "scores_URG_Torre_Dic_200_improved_c3opus.csv",
          "scores_URG_Torre_Dic_200_improved_gpt4_0613.csv",
          "scores_URG_Torre_Dic_200_improved_c3sonnet.csv"
         ],
         "xaxis": "x8",
         "y": [
          104,
          98,
          110
         ],
         "yaxis": "y8"
        },
        {
         "marker": {
          "color": "purple"
         },
         "name": "P0",
         "type": "bar",
         "x": [
          "scores_URG_Torre_Dic_200_improved_c3opus.csv",
          "scores_URG_Torre_Dic_200_improved_gpt4_0613.csv",
          "scores_URG_Torre_Dic_200_improved_c3sonnet.csv"
         ],
         "xaxis": "x8",
         "y": [
          40,
          37,
          27
         ],
         "yaxis": "y8"
        }
       ],
       "layout": {
        "annotations": [
         {
          "font": {
           "size": 16
          },
          "showarrow": false,
          "text": "v2 Files",
          "x": 0.14444444444444446,
          "xanchor": "center",
          "xref": "paper",
          "y": 1,
          "yanchor": "bottom",
          "yref": "paper"
         },
         {
          "font": {
           "size": 16
          },
          "showarrow": false,
          "text": "v2 Accuracy",
          "x": 0.5,
          "xanchor": "center",
          "xref": "paper",
          "y": 1,
          "yanchor": "bottom",
          "yref": "paper"
         },
         {
          "font": {
           "size": 16
          },
          "showarrow": false,
          "text": "v2 Scores",
          "x": 0.8555555555555556,
          "xanchor": "center",
          "xref": "paper",
          "y": 1,
          "yanchor": "bottom",
          "yref": "paper"
         },
         {
          "font": {
           "size": 16
          },
          "showarrow": false,
          "text": "v2 Improved Files",
          "x": 0.14444444444444446,
          "xanchor": "center",
          "xref": "paper",
          "y": 0.71875,
          "yanchor": "bottom",
          "yref": "paper"
         },
         {
          "font": {
           "size": 16
          },
          "showarrow": false,
          "text": "v2 Improved Accuracy",
          "x": 0.5,
          "xanchor": "center",
          "xref": "paper",
          "y": 0.71875,
          "yanchor": "bottom",
          "yref": "paper"
         },
         {
          "font": {
           "size": 16
          },
          "showarrow": false,
          "text": "v2 Improved Scores",
          "x": 0.8555555555555556,
          "xanchor": "center",
          "xref": "paper",
          "y": 0.71875,
          "yanchor": "bottom",
          "yref": "paper"
         },
         {
          "font": {
           "size": 16
          },
          "showarrow": false,
          "text": "URG Files",
          "x": 0.14444444444444446,
          "xanchor": "center",
          "xref": "paper",
          "y": 0.4375,
          "yanchor": "bottom",
          "yref": "paper"
         },
         {
          "font": {
           "size": 16
          },
          "showarrow": false,
          "text": "URG Accuracy",
          "x": 0.5,
          "xanchor": "center",
          "xref": "paper",
          "y": 0.4375,
          "yanchor": "bottom",
          "yref": "paper"
         },
         {
          "font": {
           "size": 16
          },
          "showarrow": false,
          "text": "URG Scores",
          "x": 0.8555555555555556,
          "xanchor": "center",
          "xref": "paper",
          "y": 0.4375,
          "yanchor": "bottom",
          "yref": "paper"
         },
         {
          "font": {
           "size": 16
          },
          "showarrow": false,
          "text": "URG Improved Files",
          "x": 0.14444444444444446,
          "xanchor": "center",
          "xref": "paper",
          "y": 0.15625,
          "yanchor": "bottom",
          "yref": "paper"
         },
         {
          "font": {
           "size": 16
          },
          "showarrow": false,
          "text": "URG Improved Accuracy",
          "x": 0.5,
          "xanchor": "center",
          "xref": "paper",
          "y": 0.15625,
          "yanchor": "bottom",
          "yref": "paper"
         },
         {
          "font": {
           "size": 16
          },
          "showarrow": false,
          "text": "URG Improved Scores",
          "x": 0.8555555555555556,
          "xanchor": "center",
          "xref": "paper",
          "y": 0.15625,
          "yanchor": "bottom",
          "yref": "paper"
         }
        ],
        "height": 1600,
        "showlegend": true,
        "template": {
         "data": {
          "bar": [
           {
            "error_x": {
             "color": "#2a3f5f"
            },
            "error_y": {
             "color": "#2a3f5f"
            },
            "marker": {
             "line": {
              "color": "#E5ECF6",
              "width": 0.5
             },
             "pattern": {
              "fillmode": "overlay",
              "size": 10,
              "solidity": 0.2
             }
            },
            "type": "bar"
           }
          ],
          "barpolar": [
           {
            "marker": {
             "line": {
              "color": "#E5ECF6",
              "width": 0.5
             },
             "pattern": {
              "fillmode": "overlay",
              "size": 10,
              "solidity": 0.2
             }
            },
            "type": "barpolar"
           }
          ],
          "carpet": [
           {
            "aaxis": {
             "endlinecolor": "#2a3f5f",
             "gridcolor": "white",
             "linecolor": "white",
             "minorgridcolor": "white",
             "startlinecolor": "#2a3f5f"
            },
            "baxis": {
             "endlinecolor": "#2a3f5f",
             "gridcolor": "white",
             "linecolor": "white",
             "minorgridcolor": "white",
             "startlinecolor": "#2a3f5f"
            },
            "type": "carpet"
           }
          ],
          "choropleth": [
           {
            "colorbar": {
             "outlinewidth": 0,
             "ticks": ""
            },
            "type": "choropleth"
           }
          ],
          "contour": [
           {
            "colorbar": {
             "outlinewidth": 0,
             "ticks": ""
            },
            "colorscale": [
             [
              0,
              "#0d0887"
             ],
             [
              0.1111111111111111,
              "#46039f"
             ],
             [
              0.2222222222222222,
              "#7201a8"
             ],
             [
              0.3333333333333333,
              "#9c179e"
             ],
             [
              0.4444444444444444,
              "#bd3786"
             ],
             [
              0.5555555555555556,
              "#d8576b"
             ],
             [
              0.6666666666666666,
              "#ed7953"
             ],
             [
              0.7777777777777778,
              "#fb9f3a"
             ],
             [
              0.8888888888888888,
              "#fdca26"
             ],
             [
              1,
              "#f0f921"
             ]
            ],
            "type": "contour"
           }
          ],
          "contourcarpet": [
           {
            "colorbar": {
             "outlinewidth": 0,
             "ticks": ""
            },
            "type": "contourcarpet"
           }
          ],
          "heatmap": [
           {
            "colorbar": {
             "outlinewidth": 0,
             "ticks": ""
            },
            "colorscale": [
             [
              0,
              "#0d0887"
             ],
             [
              0.1111111111111111,
              "#46039f"
             ],
             [
              0.2222222222222222,
              "#7201a8"
             ],
             [
              0.3333333333333333,
              "#9c179e"
             ],
             [
              0.4444444444444444,
              "#bd3786"
             ],
             [
              0.5555555555555556,
              "#d8576b"
             ],
             [
              0.6666666666666666,
              "#ed7953"
             ],
             [
              0.7777777777777778,
              "#fb9f3a"
             ],
             [
              0.8888888888888888,
              "#fdca26"
             ],
             [
              1,
              "#f0f921"
             ]
            ],
            "type": "heatmap"
           }
          ],
          "heatmapgl": [
           {
            "colorbar": {
             "outlinewidth": 0,
             "ticks": ""
            },
            "colorscale": [
             [
              0,
              "#0d0887"
             ],
             [
              0.1111111111111111,
              "#46039f"
             ],
             [
              0.2222222222222222,
              "#7201a8"
             ],
             [
              0.3333333333333333,
              "#9c179e"
             ],
             [
              0.4444444444444444,
              "#bd3786"
             ],
             [
              0.5555555555555556,
              "#d8576b"
             ],
             [
              0.6666666666666666,
              "#ed7953"
             ],
             [
              0.7777777777777778,
              "#fb9f3a"
             ],
             [
              0.8888888888888888,
              "#fdca26"
             ],
             [
              1,
              "#f0f921"
             ]
            ],
            "type": "heatmapgl"
           }
          ],
          "histogram": [
           {
            "marker": {
             "pattern": {
              "fillmode": "overlay",
              "size": 10,
              "solidity": 0.2
             }
            },
            "type": "histogram"
           }
          ],
          "histogram2d": [
           {
            "colorbar": {
             "outlinewidth": 0,
             "ticks": ""
            },
            "colorscale": [
             [
              0,
              "#0d0887"
             ],
             [
              0.1111111111111111,
              "#46039f"
             ],
             [
              0.2222222222222222,
              "#7201a8"
             ],
             [
              0.3333333333333333,
              "#9c179e"
             ],
             [
              0.4444444444444444,
              "#bd3786"
             ],
             [
              0.5555555555555556,
              "#d8576b"
             ],
             [
              0.6666666666666666,
              "#ed7953"
             ],
             [
              0.7777777777777778,
              "#fb9f3a"
             ],
             [
              0.8888888888888888,
              "#fdca26"
             ],
             [
              1,
              "#f0f921"
             ]
            ],
            "type": "histogram2d"
           }
          ],
          "histogram2dcontour": [
           {
            "colorbar": {
             "outlinewidth": 0,
             "ticks": ""
            },
            "colorscale": [
             [
              0,
              "#0d0887"
             ],
             [
              0.1111111111111111,
              "#46039f"
             ],
             [
              0.2222222222222222,
              "#7201a8"
             ],
             [
              0.3333333333333333,
              "#9c179e"
             ],
             [
              0.4444444444444444,
              "#bd3786"
             ],
             [
              0.5555555555555556,
              "#d8576b"
             ],
             [
              0.6666666666666666,
              "#ed7953"
             ],
             [
              0.7777777777777778,
              "#fb9f3a"
             ],
             [
              0.8888888888888888,
              "#fdca26"
             ],
             [
              1,
              "#f0f921"
             ]
            ],
            "type": "histogram2dcontour"
           }
          ],
          "mesh3d": [
           {
            "colorbar": {
             "outlinewidth": 0,
             "ticks": ""
            },
            "type": "mesh3d"
           }
          ],
          "parcoords": [
           {
            "line": {
             "colorbar": {
              "outlinewidth": 0,
              "ticks": ""
             }
            },
            "type": "parcoords"
           }
          ],
          "pie": [
           {
            "automargin": true,
            "type": "pie"
           }
          ],
          "scatter": [
           {
            "fillpattern": {
             "fillmode": "overlay",
             "size": 10,
             "solidity": 0.2
            },
            "type": "scatter"
           }
          ],
          "scatter3d": [
           {
            "line": {
             "colorbar": {
              "outlinewidth": 0,
              "ticks": ""
             }
            },
            "marker": {
             "colorbar": {
              "outlinewidth": 0,
              "ticks": ""
             }
            },
            "type": "scatter3d"
           }
          ],
          "scattercarpet": [
           {
            "marker": {
             "colorbar": {
              "outlinewidth": 0,
              "ticks": ""
             }
            },
            "type": "scattercarpet"
           }
          ],
          "scattergeo": [
           {
            "marker": {
             "colorbar": {
              "outlinewidth": 0,
              "ticks": ""
             }
            },
            "type": "scattergeo"
           }
          ],
          "scattergl": [
           {
            "marker": {
             "colorbar": {
              "outlinewidth": 0,
              "ticks": ""
             }
            },
            "type": "scattergl"
           }
          ],
          "scattermapbox": [
           {
            "marker": {
             "colorbar": {
              "outlinewidth": 0,
              "ticks": ""
             }
            },
            "type": "scattermapbox"
           }
          ],
          "scatterpolar": [
           {
            "marker": {
             "colorbar": {
              "outlinewidth": 0,
              "ticks": ""
             }
            },
            "type": "scatterpolar"
           }
          ],
          "scatterpolargl": [
           {
            "marker": {
             "colorbar": {
              "outlinewidth": 0,
              "ticks": ""
             }
            },
            "type": "scatterpolargl"
           }
          ],
          "scatterternary": [
           {
            "marker": {
             "colorbar": {
              "outlinewidth": 0,
              "ticks": ""
             }
            },
            "type": "scatterternary"
           }
          ],
          "surface": [
           {
            "colorbar": {
             "outlinewidth": 0,
             "ticks": ""
            },
            "colorscale": [
             [
              0,
              "#0d0887"
             ],
             [
              0.1111111111111111,
              "#46039f"
             ],
             [
              0.2222222222222222,
              "#7201a8"
             ],
             [
              0.3333333333333333,
              "#9c179e"
             ],
             [
              0.4444444444444444,
              "#bd3786"
             ],
             [
              0.5555555555555556,
              "#d8576b"
             ],
             [
              0.6666666666666666,
              "#ed7953"
             ],
             [
              0.7777777777777778,
              "#fb9f3a"
             ],
             [
              0.8888888888888888,
              "#fdca26"
             ],
             [
              1,
              "#f0f921"
             ]
            ],
            "type": "surface"
           }
          ],
          "table": [
           {
            "cells": {
             "fill": {
              "color": "#EBF0F8"
             },
             "line": {
              "color": "white"
             }
            },
            "header": {
             "fill": {
              "color": "#C8D4E3"
             },
             "line": {
              "color": "white"
             }
            },
            "type": "table"
           }
          ]
         },
         "layout": {
          "annotationdefaults": {
           "arrowcolor": "#2a3f5f",
           "arrowhead": 0,
           "arrowwidth": 1
          },
          "autotypenumbers": "strict",
          "coloraxis": {
           "colorbar": {
            "outlinewidth": 0,
            "ticks": ""
           }
          },
          "colorscale": {
           "diverging": [
            [
             0,
             "#8e0152"
            ],
            [
             0.1,
             "#c51b7d"
            ],
            [
             0.2,
             "#de77ae"
            ],
            [
             0.3,
             "#f1b6da"
            ],
            [
             0.4,
             "#fde0ef"
            ],
            [
             0.5,
             "#f7f7f7"
            ],
            [
             0.6,
             "#e6f5d0"
            ],
            [
             0.7,
             "#b8e186"
            ],
            [
             0.8,
             "#7fbc41"
            ],
            [
             0.9,
             "#4d9221"
            ],
            [
             1,
             "#276419"
            ]
           ],
           "sequential": [
            [
             0,
             "#0d0887"
            ],
            [
             0.1111111111111111,
             "#46039f"
            ],
            [
             0.2222222222222222,
             "#7201a8"
            ],
            [
             0.3333333333333333,
             "#9c179e"
            ],
            [
             0.4444444444444444,
             "#bd3786"
            ],
            [
             0.5555555555555556,
             "#d8576b"
            ],
            [
             0.6666666666666666,
             "#ed7953"
            ],
            [
             0.7777777777777778,
             "#fb9f3a"
            ],
            [
             0.8888888888888888,
             "#fdca26"
            ],
            [
             1,
             "#f0f921"
            ]
           ],
           "sequentialminus": [
            [
             0,
             "#0d0887"
            ],
            [
             0.1111111111111111,
             "#46039f"
            ],
            [
             0.2222222222222222,
             "#7201a8"
            ],
            [
             0.3333333333333333,
             "#9c179e"
            ],
            [
             0.4444444444444444,
             "#bd3786"
            ],
            [
             0.5555555555555556,
             "#d8576b"
            ],
            [
             0.6666666666666666,
             "#ed7953"
            ],
            [
             0.7777777777777778,
             "#fb9f3a"
            ],
            [
             0.8888888888888888,
             "#fdca26"
            ],
            [
             1,
             "#f0f921"
            ]
           ]
          },
          "colorway": [
           "#636efa",
           "#EF553B",
           "#00cc96",
           "#ab63fa",
           "#FFA15A",
           "#19d3f3",
           "#FF6692",
           "#B6E880",
           "#FF97FF",
           "#FECB52"
          ],
          "font": {
           "color": "#2a3f5f"
          },
          "geo": {
           "bgcolor": "white",
           "lakecolor": "white",
           "landcolor": "#E5ECF6",
           "showlakes": true,
           "showland": true,
           "subunitcolor": "white"
          },
          "hoverlabel": {
           "align": "left"
          },
          "hovermode": "closest",
          "mapbox": {
           "style": "light"
          },
          "paper_bgcolor": "white",
          "plot_bgcolor": "#E5ECF6",
          "polar": {
           "angularaxis": {
            "gridcolor": "white",
            "linecolor": "white",
            "ticks": ""
           },
           "bgcolor": "#E5ECF6",
           "radialaxis": {
            "gridcolor": "white",
            "linecolor": "white",
            "ticks": ""
           }
          },
          "scene": {
           "xaxis": {
            "backgroundcolor": "#E5ECF6",
            "gridcolor": "white",
            "gridwidth": 2,
            "linecolor": "white",
            "showbackground": true,
            "ticks": "",
            "zerolinecolor": "white"
           },
           "yaxis": {
            "backgroundcolor": "#E5ECF6",
            "gridcolor": "white",
            "gridwidth": 2,
            "linecolor": "white",
            "showbackground": true,
            "ticks": "",
            "zerolinecolor": "white"
           },
           "zaxis": {
            "backgroundcolor": "#E5ECF6",
            "gridcolor": "white",
            "gridwidth": 2,
            "linecolor": "white",
            "showbackground": true,
            "ticks": "",
            "zerolinecolor": "white"
           }
          },
          "shapedefaults": {
           "line": {
            "color": "#2a3f5f"
           }
          },
          "ternary": {
           "aaxis": {
            "gridcolor": "white",
            "linecolor": "white",
            "ticks": ""
           },
           "baxis": {
            "gridcolor": "white",
            "linecolor": "white",
            "ticks": ""
           },
           "bgcolor": "#E5ECF6",
           "caxis": {
            "gridcolor": "white",
            "linecolor": "white",
            "ticks": ""
           }
          },
          "title": {
           "x": 0.05
          },
          "xaxis": {
           "automargin": true,
           "gridcolor": "white",
           "linecolor": "white",
           "ticks": "",
           "title": {
            "standoff": 15
           },
           "zerolinecolor": "white",
           "zerolinewidth": 2
          },
          "yaxis": {
           "automargin": true,
           "gridcolor": "white",
           "linecolor": "white",
           "ticks": "",
           "title": {
            "standoff": 15
           },
           "zerolinecolor": "white",
           "zerolinewidth": 2
          }
         }
        },
        "title": {
         "text": "Prediction Scores Dashboard"
        },
        "xaxis": {
         "anchor": "y",
         "domain": [
          0.35555555555555557,
          0.6444444444444445
         ]
        },
        "xaxis2": {
         "anchor": "y2",
         "domain": [
          0.7111111111111111,
          1
         ]
        },
        "xaxis3": {
         "anchor": "y3",
         "domain": [
          0.35555555555555557,
          0.6444444444444445
         ]
        },
        "xaxis4": {
         "anchor": "y4",
         "domain": [
          0.7111111111111111,
          1
         ]
        },
        "xaxis5": {
         "anchor": "y5",
         "domain": [
          0.35555555555555557,
          0.6444444444444445
         ]
        },
        "xaxis6": {
         "anchor": "y6",
         "domain": [
          0.7111111111111111,
          1
         ]
        },
        "xaxis7": {
         "anchor": "y7",
         "domain": [
          0.35555555555555557,
          0.6444444444444445
         ]
        },
        "xaxis8": {
         "anchor": "y8",
         "domain": [
          0.7111111111111111,
          1
         ]
        },
        "yaxis": {
         "anchor": "x",
         "domain": [
          0.84375,
          1
         ]
        },
        "yaxis2": {
         "anchor": "x2",
         "domain": [
          0.84375,
          1
         ]
        },
        "yaxis3": {
         "anchor": "x3",
         "domain": [
          0.5625,
          0.71875
         ]
        },
        "yaxis4": {
         "anchor": "x4",
         "domain": [
          0.5625,
          0.71875
         ]
        },
        "yaxis5": {
         "anchor": "x5",
         "domain": [
          0.28125,
          0.4375
         ]
        },
        "yaxis6": {
         "anchor": "x6",
         "domain": [
          0.28125,
          0.4375
         ]
        },
        "yaxis7": {
         "anchor": "x7",
         "domain": [
          0,
          0.15625
         ]
        },
        "yaxis8": {
         "anchor": "x8",
         "domain": [
          0,
          0.15625
         ]
        }
       }
      }
     },
     "metadata": {},
     "output_type": "display_data"
    }
   ],
   "source": [
    "# Create subplots with 4 rows and 3 columns\n",
    "fig = make_subplots(rows=4, cols=3, subplot_titles=('v2 Files', 'v2 Accuracy', 'v2 Scores',\n",
    "                                                    'v2 Improved Files', 'v2 Improved Accuracy', 'v2 Improved Scores',\n",
    "                                                    'URG Files', 'URG Accuracy', 'URG Scores',\n",
    "                                                    'URG Improved Files', 'URG Improved Accuracy', 'URG Improved Scores'),\n",
    "                    specs=[[{'type': 'domain'}, {'type': 'xy'}, {'type': 'xy'}],\n",
    "                           [{'type': 'domain'}, {'type': 'xy'}, {'type': 'xy'}],\n",
    "                           [{'type': 'domain'}, {'type': 'xy'}, {'type': 'xy'}],\n",
    "                           [{'type': 'domain'}, {'type': 'xy'}, {'type': 'xy'}]])\n",
    "\n",
    "# Add the tables to the respective subplots\n",
    "fig.add_trace(go.Table(\n",
    "    header=dict(values=list(df_v2.columns), fill_color='paleturquoise', align='left'),\n",
    "    cells=dict(values=[df_v2.File, df_v2.P1, df_v2.P5, df_v2.P0, df_v2['Strict Accuracy'], df_v2['Lenient Accuracy']],\n",
    "               fill_color='lavender', align='left')\n",
    "), row=1, col=1)\n",
    "\n",
    "fig.add_trace(go.Table(\n",
    "    header=dict(values=list(df_v2_improved.columns), fill_color='paleturquoise', align='left'),\n",
    "    cells=dict(values=[df_v2_improved.File, df_v2_improved.P1, df_v2_improved.P5, df_v2_improved.P0, df_v2_improved['Strict Accuracy'], df_v2_improved['Lenient Accuracy']],\n",
    "               fill_color='lavender', align='left')\n",
    "), row=2, col=1)\n",
    "\n",
    "fig.add_trace(go.Table(\n",
    "    header=dict(values=list(df_URG.columns), fill_color='paleturquoise', align='left'),\n",
    "    cells=dict(values=[df_URG.File, df_URG.P1, df_URG.P5, df_URG.P0, df_URG['Strict Accuracy'], df_URG['Lenient Accuracy']],\n",
    "               fill_color='lavender', align='left')\n",
    "), row=3, col=1)\n",
    "\n",
    "fig.add_trace(go.Table(\n",
    "    header=dict(values=list(df_URG_improved.columns), fill_color='paleturquoise', align='left'),\n",
    "    cells=dict(values=[df_URG_improved.File, df_URG_improved.P1, df_URG_improved.P5, df_URG_improved.P0, df_URG_improved['Strict Accuracy'], df_URG_improved['Lenient Accuracy']],\n",
    "               fill_color='lavender', align='left')\n",
    "), row=4, col=1)\n",
    "\n",
    "# Add accuracy comparison for v2 files\n",
    "fig.add_trace(go.Bar(x=df_v2['File'], y=df_v2['Strict Accuracy'], name='Strict Accuracy', marker_color='blue'), row=1, col=2)\n",
    "fig.add_trace(go.Bar(x=df_v2['File'], y=df_v2['Lenient Accuracy'], name='Lenient Accuracy', marker_color='green'), row=1, col=2)\n",
    "\n",
    "# Add score comparison for v2 files\n",
    "fig.add_trace(go.Bar(x=df_v2['File'], y=df_v2['P1'], name='P1', marker_color='red'), row=1, col=3)\n",
    "fig.add_trace(go.Bar(x=df_v2['File'], y=df_v2['P5'], name='P5', marker_color='orange'), row=1, col=3)\n",
    "fig.add_trace(go.Bar(x=df_v2['File'], y=df_v2['P0'], name='P0', marker_color='purple'), row=1, col=3)\n",
    "\n",
    "# Add accuracy comparison for v2 improved files\n",
    "fig.add_trace(go.Bar(x=df_v2_improved['File'], y=df_v2_improved['Strict Accuracy'], name='Strict Accuracy', marker_color='blue'), row=2, col=2)\n",
    "fig.add_trace(go.Bar(x=df_v2_improved['File'], y=df_v2_improved['Lenient Accuracy'], name='Lenient Accuracy', marker_color='green'), row=2, col=2)\n",
    "\n",
    "# Add score comparison for v2 improved files\n",
    "fig.add_trace(go.Bar(x=df_v2_improved['File'], y=df_v2_improved['P1'], name='P1', marker_color='red'), row=2, col=3)\n",
    "fig.add_trace(go.Bar(x=df_v2_improved['File'], y=df_v2_improved['P5'], name='P5', marker_color='orange'), row=2, col=3)\n",
    "fig.add_trace(go.Bar(x=df_v2_improved['File'], y=df_v2_improved['P0'], name='P0', marker_color='purple'), row=2, col=3)\n",
    "\n",
    "# Add accuracy comparison for URG files\n",
    "fig.add_trace(go.Bar(x=df_URG['File'], y=df_URG['Strict Accuracy'], name='Strict Accuracy', marker_color='blue'), row=3, col=2)\n",
    "fig.add_trace(go.Bar(x=df_URG['File'], y=df_URG['Lenient Accuracy'], name='Lenient Accuracy', marker_color='green'), row=3, col=2)\n",
    "\n",
    "# Add score comparison for URG files\n",
    "fig.add_trace(go.Bar(x=df_URG['File'], y=df_URG['P1'], name='P1', marker_color='red'), row=3, col=3)\n",
    "fig.add_trace(go.Bar(x=df_URG['File'], y=df_URG['P5'], name='P5', marker_color='orange'), row=3, col=3)\n",
    "fig.add_trace(go.Bar(x=df_URG['File'], y=df_URG['P0'], name='P0', marker_color='purple'), row=3, col=3)\n",
    "\n",
    "# Add accuracy comparison for URG improved files\n",
    "fig.add_trace(go.Bar(x=df_URG_improved['File'], y=df_URG_improved['Strict Accuracy'], name='Strict Accuracy', marker_color='blue'), row=4, col=2)\n",
    "fig.add_trace(go.Bar(x=df_URG_improved['File'], y=df_URG_improved['Lenient Accuracy'], name='Lenient Accuracy', marker_color='green'), row=4, col=2)\n",
    "\n",
    "# Add score comparison for URG improved files\n",
    "fig.add_trace(go.Bar(x=df_URG_improved['File'], y=df_URG_improved['P1'], name='P1', marker_color='red'), row=4, col=3)\n",
    "fig.add_trace(go.Bar(x=df_URG_improved['File'], y=df_URG_improved['P5'], name='P5', marker_color='orange'), row=4, col=3)\n",
    "fig.add_trace(go.Bar(x=df_URG_improved['File'], y=df_URG_improved['P0'], name='P0', marker_color='purple'), row=4, col=3)\n",
    "\n",
    "# Update the layout\n",
    "fig.update_layout(\n",
    "    title='Prediction Scores Dashboard',\n",
    "    height=1600,\n",
    "    showlegend=True\n",
    ")\n",
    "\n",
    "# Display the dashboard\n",
    "fig.show()"
   ]
  },
  {
   "cell_type": "markdown",
   "metadata": {},
   "source": [
    "## Calculating p-values"
   ]
  },
  {
   "cell_type": "code",
   "execution_count": 7,
   "metadata": {},
   "outputs": [
    {
     "name": "stdout",
     "output_type": "stream",
     "text": [
      "Comparing AI models within the Synthetic dataset:\n",
      "  Strict Accuracy: p-value = 0.233\n",
      "    No significant difference in Strict Accuracy between AI models in the Synthetic dataset.\n",
      "  Top-5 Accuracy: p-value = 0.251\n",
      "    No significant difference in Top-5 Accuracy between AI models in the Synthetic dataset.\n",
      "\n",
      "Comparing AI models within the RAMEDIS dataset:\n",
      "  Strict Accuracy: p-value = 0.233\n",
      "    No significant difference in Strict Accuracy between AI models in the RAMEDIS dataset.\n",
      "  Top-5 Accuracy: p-value = 0.233\n",
      "    No significant difference in Top-5 Accuracy between AI models in the RAMEDIS dataset.\n",
      "\n",
      "Comparing AI models within the PUMCH dataset:\n",
      "  Strict Accuracy: p-value = 0.251\n",
      "    No significant difference in Strict Accuracy between AI models in the PUMCH dataset.\n",
      "  Top-5 Accuracy: p-value = 0.233\n",
      "    No significant difference in Top-5 Accuracy between AI models in the PUMCH dataset.\n",
      "\n"
     ]
    }
   ],
   "source": [
    "import pandas as pd\n",
    "from scipy.stats import chi2_contingency, fisher_exact\n",
    "from statsmodels.stats.contingency_tables import mcnemar\n",
    "\n",
    "# Load the diagnostic accuracy data into a pandas DataFrame\n",
    "data = pd.read_csv('data/diagnostic_accuracy_data.csv')\n",
    "\n",
    "# Define the significance level\n",
    "alpha = 0.05\n",
    "\n",
    "# Compare AI models within each dataset\n",
    "datasets = ['Synthetic', 'RAMEDIS', 'PUMCH']\n",
    "for dataset in datasets:\n",
    "    print(f\"Comparing AI models within the {dataset} dataset:\")\n",
    "    dataset_data = data[data['Dataset'] == dataset]\n",
    "    models = dataset_data['Model'].unique()\n",
    "    \n",
    "    for metric in ['Strict Accuracy', 'Top-5 Accuracy']:\n",
    "        contingency_table = pd.crosstab(dataset_data['Model'], dataset_data[metric])\n",
    "        \n",
    "        if contingency_table.shape == (2, 2):\n",
    "            _, p_value, _, _ = fisher_exact(contingency_table)\n",
    "        else:\n",
    "            _, p_value, _, _ = chi2_contingency(contingency_table)\n",
    "        \n",
    "        print(f\"  {metric}: p-value = {p_value:.3f}\")\n",
    "        if p_value < alpha:\n",
    "            print(f\"    Significant difference in {metric} between AI models in the {dataset} dataset.\")\n",
    "        else:\n",
    "            print(f\"    No significant difference in {metric} between AI models in the {dataset} dataset.\")\n",
    "    print()"
   ]
  },
  {
   "cell_type": "code",
   "execution_count": 9,
   "metadata": {},
   "outputs": [
    {
     "data": {
      "image/png": "[encoded data removed]",
      "text/plain": [
       "<Figure size 1500x700 with 1 Axes>"
      ]
     },
     "metadata": {},
     "output_type": "display_data"
    }
   ],
   "source": [
    "import seaborn as sns\n",
    "import matplotlib.pyplot as plt\n",
    "\n",
    "# Set the style\n",
    "sns.set(style=\"whitegrid\")\n",
    "\n",
    "# Bar Plot - Strict and Top-5 Accuracy per Model\n",
    "fig, ax = plt.subplots(figsize=(15, 7))\n",
    "data_melt = data.melt(id_vars=[\"Model\"], value_vars=[\"Strict Accuracy\", \"Top-5 Accuracy\"], var_name=\"Accuracy Type\", value_name=\"Accuracy\")\n",
    "sns.barplot(x=\"Model\", y=\"Accuracy\", hue=\"Accuracy Type\", data=data_melt, ax=ax, palette=\"Set2\")\n",
    "plt.xticks(rotation=45, ha=\"right\")\n",
    "plt.title(\"Comparison of Strict and Top-5 Accuracy per Model\")\n",
    "plt.tight_layout()\n",
    "plt.show()\n"
   ]
  },
  {
   "cell_type": "code",
   "execution_count": 7,
   "metadata": {},
   "outputs": [
    {
     "data": {
      "image/png": "[encoded data removed]",
      "text/plain": [
       "<Figure size 1500x700 with 1 Axes>"
      ]
     },
     "metadata": {},
     "output_type": "display_data"
    }
   ],
   "source": [
    "import pandas as pd\n",
    "from scipy.stats import chi2_contingency, fisher_exact\n",
    "from statsmodels.stats.contingency_tables import mcnemar\n",
    "import seaborn as sns\n",
    "import matplotlib.pyplot as plt\n",
    "\n",
    "\n",
    "# Load the diagnostic accuracy data into a pandas DataFrame\n",
    "data = pd.read_csv('data/diagnostic_accuracy_data_240724.csv')\n",
    "\n",
    "# Set the style\n",
    "sns.set(style=\"whitegrid\")\n",
    "\n",
    "# Bar Plot - Strict and Top-5 Accuracy per Model\n",
    "fig, ax = plt.subplots(figsize=(15, 7))\n",
    "data_melt = data.melt(id_vars=[\"Model\"], value_vars=[\"Strict Accuracy\", \"Top-5 Accuracy\"], var_name=\"Accuracy Type\", value_name=\"Accuracy\")\n",
    "sns.barplot(x=\"Model\", y=\"Accuracy\", hue=\"Accuracy Type\", data=data_melt, ax=ax, palette=\"Set2\")\n",
    "plt.xticks(rotation=45, ha=\"right\")\n",
    "plt.title(\"Comparison of Strict and Top-5 Accuracy per Model\")\n",
    "plt.tight_layout()\n",
    "plt.show()\n",
    "\n",
    "# Save the plot as png\n",
    "plt.savefig('strict_top5_accuracy_comparison.png', dpi=600, bbox_inches='tight')\n",
    "plt.close()  # Close the plot to free up memory\n",
    "\n"
   ]
  },
  {
   "cell_type": "code",
   "execution_count": 8,
   "metadata": {},
   "outputs": [
    {
     "name": "stderr",
     "output_type": "stream",
     "text": [
      "/tmp/ipykernel_226245/3434152581.py:5: FutureWarning: \n",
      "\n",
      "Passing `palette` without assigning `hue` is deprecated and will be removed in v0.14.0. Assign the `x` variable to `hue` and set `legend=False` for the same effect.\n",
      "\n",
      "  sns.boxplot(x=\"Model\", y=\"Strict Accuracy\", data=data, ax=axes[0], palette=\"Set3\")\n",
      "/tmp/ipykernel_226245/3434152581.py:10: FutureWarning: \n",
      "\n",
      "Passing `palette` without assigning `hue` is deprecated and will be removed in v0.14.0. Assign the `x` variable to `hue` and set `legend=False` for the same effect.\n",
      "\n",
      "  sns.boxplot(x=\"Model\", y=\"Top-5 Accuracy\", data=data, ax=axes[1], palette=\"Set3\")\n"
     ]
    },
    {
     "data": {
      "image/png": "[encoded data removed]",
      "text/plain": [
       "<Figure size 1800x700 with 2 Axes>"
      ]
     },
     "metadata": {},
     "output_type": "display_data"
    }
   ],
   "source": [
    "# Box Plots - Distribution of Strict and Top-5 Accuracy by Model\n",
    "fig, axes = plt.subplots(1, 2, figsize=(18, 7))\n",
    "\n",
    "# Strict Accuracy Box Plot\n",
    "sns.boxplot(x=\"Model\", y=\"Strict Accuracy\", data=data, ax=axes[0], palette=\"Set3\")\n",
    "axes[0].tick_params(axis='x', rotation=45)\n",
    "axes[0].set_title(\"Strict Accuracy Distribution by Model\")\n",
    "\n",
    "# Top-5 Accuracy Box Plot\n",
    "sns.boxplot(x=\"Model\", y=\"Top-5 Accuracy\", data=data, ax=axes[1], palette=\"Set3\")\n",
    "axes[1].tick_params(axis='x', rotation=45)\n",
    "axes[1].set_title(\"Top-5 Accuracy Distribution by Model\")\n",
    "\n",
    "plt.tight_layout()\n",
    "plt.show()\n"
   ]
  },
  {
   "cell_type": "code",
   "execution_count": 11,
   "metadata": {},
   "outputs": [
    {
     "data": {
      "image/png": "[encoded data removed]",
      "text/plain": [
       "<Figure size 3170.88x500 with 3 Axes>"
      ]
     },
     "metadata": {},
     "output_type": "display_data"
    }
   ],
   "source": [
    "# Facet Grid - Models' Accuracy Across Different Datasets\n",
    "facet_data = data.melt(id_vars=[\"Model\", \"Dataset\"], value_vars=[\"Strict Accuracy\", \"Top-5 Accuracy\"], var_name=\"Accuracy Type\", value_name=\"Accuracy\")\n",
    "\n",
    "g = sns.catplot(x=\"Model\", y=\"Accuracy\", hue=\"Accuracy Type\", col=\"Dataset\", data=facet_data, kind=\"bar\", height=5, aspect=2, palette=\"Set1\")\n",
    "g.set_xticklabels(rotation=45, ha=\"right\")\n",
    "g.set_titles(\"{col_name}\")\n",
    "plt.suptitle(\"Comparison of Models' Accuracy Across Different Datasets\", y=1.05)\n",
    "plt.tight_layout()\n",
    "plt.show()\n"
   ]
  },
  {
   "cell_type": "code",
   "execution_count": 13,
   "metadata": {},
   "outputs": [
    {
     "data": {
      "image/png": "[encoded data removed]",
      "text/plain": [
       "<Figure size 3420.88x500 with 13 Axes>"
      ]
     },
     "metadata": {},
     "output_type": "display_data"
    }
   ],
   "source": [
    "# Facet Grid - Dataset' Accuracy Across Different Models\n",
    "facet_data = data.melt(id_vars=[\"Model\", \"Dataset\"], value_vars=[\"Strict Accuracy\", \"Top-5 Accuracy\"], var_name=\"Accuracy Type\", value_name=\"Accuracy\")\n",
    "\n",
    "g = sns.catplot(x=\"Dataset\", y=\"Accuracy\", hue=\"Accuracy Type\", col=\"Model\", data=facet_data, kind=\"bar\", height=5, aspect=0.5, palette=\"Set1\")\n",
    "g.set_xticklabels(rotation=45, ha=\"right\")\n",
    "g.set_titles(\"{col_name}\")\n",
    "plt.suptitle(\"Comparison of Models' Accuracy Across Different Datasets\", y=1.05)\n",
    "plt.tight_layout()\n",
    "plt.show()"
   ]
  },
  {
   "cell_type": "code",
   "execution_count": 14,
   "metadata": {},
   "outputs": [
    {
     "data": {
      "image/png": "[encoded data removed]",
      "text/plain": [
       "<Figure size 1000x500 with 1 Axes>"
      ]
     },
     "metadata": {},
     "output_type": "display_data"
    },
    {
     "data": {
      "image/png": "[encoded data removed]",
      "text/plain": [
       "<Figure size 1000x500 with 1 Axes>"
      ]
     },
     "metadata": {},
     "output_type": "display_data"
    },
    {
     "data": {
      "image/png": "[encoded data removed]",
      "text/plain": [
       "<Figure size 1000x500 with 1 Axes>"
      ]
     },
     "metadata": {},
     "output_type": "display_data"
    }
   ],
   "source": [
    "# Individual Plots - Models' Accuracy Across Different Datasets \n",
    "facet_data = data.melt(id_vars=[\"Model\", \"Dataset\"], value_vars=[\"Strict Accuracy\", \"Top-5 Accuracy\"], var_name=\"Accuracy Type\", value_name=\"Accuracy\")\n",
    "\n",
    "unique_datasets = facet_data['Dataset'].unique()\n",
    "for dataset in unique_datasets:\n",
    "    dataset_specific_data = facet_data[facet_data['Dataset'] == dataset]\n",
    "    plt.figure(figsize=(10, 5))\n",
    "    sns.barplot(x=\"Model\", y=\"Accuracy\", hue=\"Accuracy Type\", data=dataset_specific_data, palette=\"Set1\")\n",
    "    plt.title(f\"Models' Accuracy for {dataset}\")\n",
    "    plt.xticks(rotation=45, ha=\"right\")\n",
    "    plt.tight_layout()\n",
    "    plt.show()\n"
   ]
  },
  {
   "cell_type": "code",
   "execution_count": null,
   "metadata": {},
   "outputs": [],
   "source": []
  }
 ],
 "metadata": {
  "kernelspec": {
   "display_name": ".venv",
   "language": "python",
   "name": "python3"
  },
  "language_info": {
   "codemirror_mode": {
    "name": "ipython",
    "version": 3
   },
   "file_extension": ".py",
   "mimetype": "text/x-python",
   "name": "python",
   "nbconvert_exporter": "python",
   "pygments_lexer": "ipython3",
   "version": "3.8.10"
  }
 },
 "nbformat": 4,
 "nbformat_minor": 2
}
